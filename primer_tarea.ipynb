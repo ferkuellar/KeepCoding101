{
 "cells": [
  {
   "attachments": {},
   "cell_type": "markdown",
   "metadata": {},
   "source": [
    "# Area de una esfera\n",
    "\n",
    "## La formula para el area de una esfera es la siguiente:\n",
    "\n",
    "      area = 4 * PI * radio ** 2\n",
    "\n",
    "1. Crea una funcion que calcula el area de la esfera.\n",
    "2. Usa el `Pi` de `math`"
   ]
  },
  {
   "cell_type": "code",
   "execution_count": 1,
   "metadata": {},
   "outputs": [
    {
     "name": "stdout",
     "output_type": "stream",
     "text": [
      "El area de la esfera con radio 3.5 es 153.93804002589985\n"
     ]
    }
   ],
   "source": [
    "import math\n",
    "\n",
    "def area_esfera(radio):\n",
    "  \"\"\"\n",
    "  Calcula el area de una esfera dado su radio\n",
    "  \"\"\"\n",
    "  area = 4 * math.pi * radio**2\n",
    "  return area\n",
    "\n",
    "radio = 3.5\n",
    "area = area_esfera(radio)\n",
    "print(\"El area de la esfera con radio\", radio, \"es\", area)"
   ]
  },
  {
   "attachments": {},
   "cell_type": "markdown",
   "metadata": {},
   "source": [
    "# Volumen de una esfera\n",
    "\n",
    "      volumen = (4/3) * pi * radio ** 3\n",
    "\n",
    "1. Funcion que recibe el radio y calcula el volumen.\n",
    "2. Usa el `Pi`de `math`."
   ]
  },
  {
   "cell_type": "code",
   "execution_count": 2,
   "metadata": {},
   "outputs": [
    {
     "name": "stdout",
     "output_type": "stream",
     "text": [
      "El volumen de la esfera con radio 2 es 33.510321638291124\n"
     ]
    }
   ],
   "source": [
    "def volumen_esfera(radio1):\n",
    "    \"\"\"\n",
    "    Calcula el volumen de una esfera\n",
    "    \"\"\"\n",
    "    volumen = (4 / 3) * math.pi * radio1 ** 3 \n",
    "    return volumen\n",
    "\n",
    "radio1 = 2\n",
    "volumen = volumen_esfera(radio1)\n",
    "print(\"El volumen de la esfera con radio\", radio1, \"es\", volumen)"
   ]
  },
  {
   "attachments": {},
   "cell_type": "markdown",
   "metadata": {},
   "source": [
    "# Los gringos y sus unidades absurdas \n",
    "\n",
    "Cuando vivía en EEUU, una de las cosas que más problemas me dió fueron sus unidades desquiciadas: onzas, onzas fluidas, millas, yardas y un sinfín de absurdeces que hacen que una tarea cotidiana se convierta en un desafío hercúleo. \n",
    "\n",
    "La cosa, lamentablemente, no termina ahí. También usan subdivisiones de dichas unidades. \n",
    "\n",
    "Esas subdivisiones no pueden lógicamente, ser decimales. Normalmente usan octavos (tal cual). \n",
    "\n",
    "## Mi némesis particular: el octavo de milla \n",
    "\n",
    "Vas por la carretera y waze te pega un grito, diciendo que tienes que salir a la derecha dentro de `3 octavos de milla`. ¿Mande? Te pones a echar cuentas, y cuando terminas, ves que era justo ahí atrás. \n",
    "\n",
    "Para evitar esto, vas a hacer una función que transforma octavos de milla en metros. \n",
    "\n",
    "  1. Recibes el número de octavos de milla (`octavos_milla`).\n",
    "  2. Tienes una variable dentro de tu fución con la correspondencia millas a metros (`1609.344 metros` por `milla`).\n",
    "  3. Con eso calculas el total de metros y lo devuelves.\n",
    "  4. Usa la función `round` de Python (está en el ámbito global) para devolver un número entero (a nadie le importan los cm).\n"
   ]
  },
  {
   "cell_type": "code",
   "execution_count": 3,
   "metadata": {},
   "outputs": [
    {
     "name": "stdout",
     "output_type": "stream",
     "text": [
      "3 octavos de milla son 604 metros\n"
     ]
    }
   ],
   "source": [
    "import math\n",
    "\n",
    "def octavos_milla(octavos): \n",
    "    \"\"\"\"\n",
    "    Se convierte de fracciones a decimales\n",
    "    \"\"\"\n",
    "    \n",
    "    millas = octavos * 0.125  \n",
    "    metros = millas * 1609.344  \n",
    "\n",
    "    return round(metros)\n",
    "\n",
    "octavos = 3\n",
    "metros = octavos_milla(octavos)\n",
    "print(octavos, \"octavos de milla son\", metros, \"metros\")"
   ]
  },
  {
   "attachments": {},
   "cell_type": "markdown",
   "metadata": {},
   "source": [
    "# Edad \n",
    "\n",
    "1. Crea una función que recibe tu año de nacimiento y calcula tu edad en años.\n",
    "\n",
    "        edad_anos = ano_actual - ano_nacimiento\n",
    "\n",
    "2. Crea una función que hace lo mismo pero te devuelve la edad en días (olvídate de los años bisiestos)\n",
    "\n",
    "        edad_dias = edad_anos * 365\n",
    "  \n",
    "  ¿Se podría reaprovechar al primera función a la hora de crear la segunda y no repetir código? `DRY`."
   ]
  },
  {
   "cell_type": "code",
   "execution_count": 4,
   "metadata": {},
   "outputs": [
    {
     "name": "stdout",
     "output_type": "stream",
     "text": [
      "Tengo 47 años y 721240 días\n"
     ]
    }
   ],
   "source": [
    "def ano_nacimiento(edad_en_anos):\n",
    "    \"\"\"\n",
    "    En la función ano_nacimiento, se ha creado la variable ano_nacimiento \n",
    "    para almacenar el año de nacimiento y se ha agregado la declaración \n",
    "    return para que la función devuelva el valor calculado.\n",
    "    \"\"\"\n",
    "    ano_en_curso = 2023\n",
    "    ano_nacimiento = ano_en_curso - edad_en_anos\n",
    "    return ano_nacimiento\n",
    "\n",
    "def edad_dias(edad_en_anos):\n",
    "    \"\"\"\n",
    "    En la función edad_dias, se ha corregido el nombre de la variable \n",
    "    ano_en_curso a edad_en_anos y se ha llamado a la función ano_nacimiento \n",
    "    para obtener el año de nacimiento. Luego se ha calculado la edad en \n",
    "    días y se ha devuelto el valor.\n",
    "    \"\"\"\n",
    "    edad_anos = ano_nacimiento(edad_en_anos)\n",
    "    edad_dias = edad_anos * 365\n",
    "    return edad_dias\n",
    "\n",
    "edad_en_anos = 47\n",
    "dias_cumplidos = edad_dias(edad_en_anos)\n",
    "\n",
    "print(\"Tengo\", edad_en_anos, \"años y\", dias_cumplidos, \"días\")"
   ]
  },
  {
   "attachments": {},
   "cell_type": "markdown",
   "metadata": {},
   "source": [
    "# BMI: índice de masa corporal \n",
    "\n",
    "La operación bikini se aproxima y lo primero es saber cúanto tienes que adelgazar. Para eso, nada mejor que el BMI. \n",
    "\n",
    "EL BMI es un índice (un número) que se obtiene a partir de tu peso y altura y según dicho valor, se sabe si están en tu peso ideal, por encima del mismo o por debajo (no te lo crees ni tú). \n",
    "\n",
    "La fórmula, usando Kg para el peso y m para la altura es: \n",
    "\n",
    "              bmi = peso / altura**2\n",
    "\n",
    "1. crea la función bmi que recibe peso y altura (en Kg y m).\n",
    "\n",
    "2. devuelve el bmi.\n",
    "\n",
    "3. Reeferencia: https://www.cdc.gov/healthyweight/spanish/assessing/bmi/adult_bmi/metric_bmi_calculator/bmi_calculator.html"
   ]
  },
  {
   "cell_type": "code",
   "execution_count": 6,
   "metadata": {},
   "outputs": [
    {
     "name": "stdout",
     "output_type": "stream",
     "text": [
      "Mi indice de masa corporal es 29 %\n"
     ]
    }
   ],
   "source": [
    "def bmi(peso, altura):    \n",
    "    \"\"\"\n",
    "    Calcula el índice de masa corporal (BMI) dado el peso (en Kg) \n",
    "    y la altura (en m).\n",
    "    \"\"\"\n",
    "    bmi = peso / altura ** 2\n",
    "    return bmi\n",
    "\n",
    "mi_bmi = round(bmi(103, 1.89))\n",
    "print(\"Mi indice de masa corporal es\", mi_bmi, \"%\")"
   ]
  }
 ],
 "metadata": {
  "kernelspec": {
   "display_name": "Python 3",
   "language": "python",
   "name": "python3"
  },
  "language_info": {
   "codemirror_mode": {
    "name": "ipython",
    "version": 3
   },
   "file_extension": ".py",
   "mimetype": "text/x-python",
   "name": "python",
   "nbconvert_exporter": "python",
   "pygments_lexer": "ipython3",
   "version": "3.11.1"
  },
  "orig_nbformat": 4
 },
 "nbformat": 4,
 "nbformat_minor": 2
}
