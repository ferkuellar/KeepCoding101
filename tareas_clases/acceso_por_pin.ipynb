{
 "cells": [
  {
   "attachments": {},
   "cell_type": "markdown",
   "metadata": {},
   "source": [
    "# Ejercicio. 1 Acceso a Pin"
   ]
  },
  {
   "attachments": {},
   "cell_type": "markdown",
   "metadata": {},
   "source": [
    "Crear un programa que pida un pin de acceso de 4 cifras y solo permita el acceso cuando se adivine el pin.\n",
    "\n",
    "## Ayuda a la implementacion.\n",
    "\n",
    "* Recuerda que input siempre devuelve strings aunque se haya escrito en numeros."
   ]
  },
  {
   "cell_type": "code",
   "execution_count": 5,
   "metadata": {},
   "outputs": [
    {
     "name": "stdout",
     "output_type": "stream",
     "text": [
      "Pin incorrecto. Te quedan 2 intentos.\n",
      "Pin incorrecto. Te quedan 1 intentos.\n",
      "Pin incorrecto. Te quedan 0 intentos.\n",
      "Número máximo de intentos alcanzado. Acceso denegado.\n"
     ]
    }
   ],
   "source": [
    "def verificar_pin():\n",
    "    pin_correcto = \"1234\"   # Pin correcto que se debe adivinar\n",
    "    intentos = 3            # Número máximo de intentos permitidos\n",
    "    \n",
    "    while intentos > 0:\n",
    "        pin_ingresado = input(\"Ingresa el pin de 4 cifras: \")\n",
    "        \n",
    "        if pin_ingresado == pin_correcto:\n",
    "            print(\"¡Acceso concedido!\")\n",
    "            return\n",
    "        \n",
    "        intentos -= 1\n",
    "        print(\"Pin incorrecto. Te quedan\", intentos, \"intentos.\")\n",
    "    \n",
    "    print(\"Número máximo de intentos alcanzado. Acceso denegado.\")\n",
    "\n",
    "verificar_pin()\n"
   ]
  },
  {
   "attachments": {},
   "cell_type": "markdown",
   "metadata": {},
   "source": [
    "En este programa, se define la funcion `verificar_pin()`. La variable `pin_correcto` almacena el pin de acceso correcto que el usuario debe de adivinar. La variable `intentos` se inicializa en 3, lo que el usuario tiene 3 intentos para adivinar el pin.\n",
    "\n",
    "En el programa entra el bucle `while` que se repetira mientras el numero de intentos sea mayor que cero. En cada iteracion el bucle, se le pide al usuario que ingrese el pin utilizando la funcion `input()`, Debido que el `input()` siempre devuelve la cadena (string), el pin ingresado tambien se trata como una cadena.\n",
    "\n",
    "Se comprara el pin ingresado con el pin correcto utilizando el operador `==`, si son iguales, se imprime el mensaje \"Acceso concedido\" y la funcion `verificar_pin()` se termina utilizando la instruccion `return`.\n",
    "\n",
    "Si el pin ingresadoes incorrecto, se disminuye el numero de intentos en uno y se imprime  un mensaje indicando el numero de intentos restantes. el bucle continua hasta que se agote el numero de intentos.\n",
    "\n",
    "Si el numero de intentos alcanza cero, se imprimie un mensaje de \"Acceso denegado\".\n",
    "\n",
    "Finalmente, fuera de la funcion `verificar_pin()`, se llama a la funcion para iniciar la verificacion del pin."
   ]
  }
 ],
 "metadata": {
  "kernelspec": {
   "display_name": "Python 3",
   "language": "python",
   "name": "python3"
  },
  "language_info": {
   "codemirror_mode": {
    "name": "ipython",
    "version": 3
   },
   "file_extension": ".py",
   "mimetype": "text/x-python",
   "name": "python",
   "nbconvert_exporter": "python",
   "pygments_lexer": "ipython3",
   "version": "3.11.3"
  },
  "orig_nbformat": 4
 },
 "nbformat": 4,
 "nbformat_minor": 2
}
