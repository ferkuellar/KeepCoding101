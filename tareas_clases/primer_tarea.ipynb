{
 "cells": [
  {
   "attachments": {},
   "cell_type": "markdown",
   "metadata": {},
   "source": [
    "# Area de una esfera\n",
    "\n",
    "## La formula para el area de una esfera es la siguiente:\n",
    "\n",
    "      area = 4 * PI * radio ** 2\n",
    "\n",
    "1. Crea una funcion que calcula el area de la esfera.\n",
    "2. Usa el `Pi` de `math`"
   ]
  },
  {
   "cell_type": "code",
   "execution_count": 1,
   "metadata": {},
   "outputs": [
    {
     "name": "stdout",
     "output_type": "stream",
     "text": [
      "El area de la esfera con radio 3.5 es 153.93804002589985\n"
     ]
    }
   ],
   "source": [
    "import math\n",
    "\n",
    "def area_esfera(radio):\n",
    "  \"\"\"\n",
    "  Calcula el area de una esfera dado su radio\n",
    "  \"\"\"\n",
    "  area = 4 * math.pi * radio**2\n",
    "  return area\n",
    "\n",
    "radio = 3.5\n",
    "area = area_esfera(radio)\n",
    "print(\"El area de la esfera con radio\", radio, \"es\", area)"
   ]
  },
  {
   "attachments": {},
   "cell_type": "markdown",
   "metadata": {},
   "source": [
    "# Volumen de una esfera\n",
    "\n",
    "      volumen = (4/3) * pi * radio ** 3\n",
    "\n",
    "1. Funcion que recibe el radio y calcula el volumen.\n",
    "2. Usa el `Pi`de `math`."
   ]
  },
  {
   "cell_type": "code",
   "execution_count": 2,
   "metadata": {},
   "outputs": [
    {
     "name": "stdout",
     "output_type": "stream",
     "text": [
      "El volumen de la esfera con radio 2 es 33.510321638291124\n"
     ]
    }
   ],
   "source": [
    "def volumen_esfera(radio1):\n",
    "    \"\"\"\n",
    "    Calcula el volumen de una esfera\n",
    "    \"\"\"\n",
    "    volumen = (4 / 3) * math.pi * radio1 ** 3 \n",
    "    return volumen\n",
    "\n",
    "radio1 = 2\n",
    "volumen = volumen_esfera(radio1)\n",
    "print(\"El volumen de la esfera con radio\", radio1, \"es\", volumen)"
   ]
  },
  {
   "attachments": {},
   "cell_type": "markdown",
   "metadata": {},
   "source": [
    "# Los gringos y sus unidades absurdas \n",
    "\n",
    "Cuando vivía en EEUU, una de las cosas que más problemas me dió fueron sus unidades desquiciadas: onzas, onzas fluidas, millas, yardas y un sinfín de absurdeces que hacen que una tarea cotidiana se convierta en un desafío hercúleo. \n",
    "\n",
    "La cosa, lamentablemente, no termina ahí. También usan subdivisiones de dichas unidades. \n",
    "\n",
    "Esas subdivisiones no pueden lógicamente, ser decimales. Normalmente usan octavos (tal cual). \n",
    "\n",
    "## Mi némesis particular: el octavo de milla \n",
    "\n",
    "Vas por la carretera y waze te pega un grito, diciendo que tienes que salir a la derecha dentro de `3 octavos de milla`. ¿Mande? Te pones a echar cuentas, y cuando terminas, ves que era justo ahí atrás. \n",
    "\n",
    "Para evitar esto, vas a hacer una función que transforma octavos de milla en metros. \n",
    "\n",
    "  1. Recibes el número de octavos de milla (`octavos_milla`).\n",
    "  2. Tienes una variable dentro de tu fución con la correspondencia millas a metros (`1609.344 metros` por `milla`).\n",
    "  3. Con eso calculas el total de metros y lo devuelves.\n",
    "  4. Usa la función `round` de Python (está en el ámbito global) para devolver un número entero (a nadie le importan los cm).\n"
   ]
  },
  {
   "cell_type": "code",
   "execution_count": 3,
   "metadata": {},
   "outputs": [
    {
     "name": "stdout",
     "output_type": "stream",
     "text": [
      "3 octavos de milla son 604 metros\n"
     ]
    }
   ],
   "source": [
    "import math\n",
    "\n",
    "def octavos_milla(octavos): \n",
    "    \"\"\"\"\n",
    "    Se convierte de fracciones a decimales\n",
    "    \"\"\"\n",
    "    \n",
    "    millas = octavos * 0.125  \n",
    "    metros = millas * 1609.344  \n",
    "\n",
    "    return round(metros)\n",
    "\n",
    "octavos = 3\n",
    "metros = octavos_milla(octavos)\n",
    "print(octavos, \"octavos de milla son\", metros, \"metros\")"
   ]
  },
  {
   "attachments": {},
   "cell_type": "markdown",
   "metadata": {},
   "source": [
    "# Edad \n",
    "\n",
    "1. Crea una función que recibe tu año de nacimiento y calcula tu edad en años.\n",
    "\n",
    "        edad_anos = ano_actual - ano_nacimiento\n",
    "\n",
    "2. Crea una función que hace lo mismo pero te devuelve la edad en días (olvídate de los años bisiestos)\n",
    "\n",
    "        edad_dias = edad_anos * 365\n",
    "  \n",
    "  ¿Se podría reaprovechar al primera función a la hora de crear la segunda y no repetir código? `DRY`."
   ]
  },
  {
   "cell_type": "code",
   "execution_count": 4,
   "metadata": {},
   "outputs": [
    {
     "name": "stdout",
     "output_type": "stream",
     "text": [
      "Tengo 47 años y 721240 días\n"
     ]
    }
   ],
   "source": [
    "def ano_nacimiento(edad_en_anos):\n",
    "    \"\"\"\n",
    "    En la función ano_nacimiento, se ha creado la variable ano_nacimiento \n",
    "    para almacenar el año de nacimiento y se ha agregado la declaración \n",
    "    return para que la función devuelva el valor calculado.\n",
    "    \"\"\"\n",
    "    ano_en_curso = 2023\n",
    "    ano_nacimiento = ano_en_curso - edad_en_anos\n",
    "    return ano_nacimiento\n",
    "\n",
    "def edad_dias(edad_en_anos):\n",
    "    \"\"\"\n",
    "    En la función edad_dias, se ha corregido el nombre de la variable \n",
    "    ano_en_curso a edad_en_anos y se ha llamado a la función ano_nacimiento \n",
    "    para obtener el año de nacimiento. Luego se ha calculado la edad en \n",
    "    días y se ha devuelto el valor.\n",
    "    \"\"\"\n",
    "    edad_anos = ano_nacimiento(edad_en_anos)\n",
    "    edad_dias = edad_anos * 365\n",
    "    return edad_dias\n",
    "\n",
    "edad_en_anos = 47\n",
    "dias_cumplidos = edad_dias(edad_en_anos)\n",
    "\n",
    "print(\"Tengo\", edad_en_anos, \"años y\", dias_cumplidos, \"días\")"
   ]
  },
  {
   "attachments": {},
   "cell_type": "markdown",
   "metadata": {},
   "source": [
    "# BMI: índice de masa corporal \n",
    "\n",
    "La operación bikini se aproxima y lo primero es saber cúanto tienes que adelgazar. Para eso, nada mejor que el BMI. \n",
    "\n",
    "EL BMI es un índice (un número) que se obtiene a partir de tu peso y altura y según dicho valor, se sabe si están en tu peso ideal, por encima del mismo o por debajo (no te lo crees ni tú). \n",
    "\n",
    "La fórmula, usando Kg para el peso y m para la altura es: \n",
    "\n",
    "              bmi = peso / altura**2\n",
    "\n",
    "1. crea la función bmi que recibe peso y altura (en Kg y m).\n",
    "\n",
    "2. devuelve el bmi.\n",
    "\n",
    "3. Reeferencia: https://www.cdc.gov/healthyweight/spanish/assessing/bmi/adult_bmi/metric_bmi_calculator/bmi_calculator.html"
   ]
  },
  {
   "cell_type": "code",
   "execution_count": 6,
   "metadata": {},
   "outputs": [
    {
     "name": "stdout",
     "output_type": "stream",
     "text": [
      "Mi indice de masa corporal es 29 %\n"
     ]
    }
   ],
   "source": [
    "def bmi(peso, altura):    \n",
    "    \"\"\"\n",
    "    Calcula el índice de masa corporal (BMI) dado el peso (en Kg) \n",
    "    y la altura (en m).\n",
    "    \"\"\"\n",
    "    bmi = peso / altura ** 2\n",
    "    return bmi\n",
    "\n",
    "mi_bmi = round(bmi(103, 1.89))\n",
    "print(\"Mi indice de masa corporal es\", mi_bmi, \"%\")"
   ]
  },
  {
   "attachments": {},
   "cell_type": "markdown",
   "metadata": {},
   "source": [
    "# Euros a Pesetas \n",
    "\n",
    "Una función para los nostálgicos: vamos a convertir precios en Euros a Pesetas. La tasa de conversión es: `166.386 Pesetas` por `Euro`. \n",
    "\n",
    "1. Crea la función `euro_to_pta` que recibe un número de euros y te devuelve la cantidad de Pesetas.\n",
    "\n",
    "        peseta = euro * 166.386\n",
    "\n",
    "2. Ahora crea la función `pta_to_euro` que hace lo opuesto. \n",
    "\n",
    "        euro = peseta / 166.386\n",
    "\n",
    "3. ¿Podrías implementar `pta_to_euro` llamando a `euro_to_pta` (para reaprovechar código)?\n",
    "\n",
    "4. Referencia calculadora de cambio:  https://www.cambioeuro.es/peseta/"
   ]
  },
  {
   "cell_type": "code",
   "execution_count": 7,
   "metadata": {},
   "outputs": [
    {
     "name": "stdout",
     "output_type": "stream",
     "text": [
      "1663.86\n",
      "10.0\n"
     ]
    }
   ],
   "source": [
    "def euro_to_pta (euro):\n",
    "    \"\"\"\n",
    "    Convierte una cantidad en euros a pesetas.\n",
    "    \"\"\"\n",
    "    peseta = euro * 166.386\n",
    "\n",
    "    return peseta\n",
    "\n",
    "def pta_to_euro (peseta):\n",
    "    \"\"\"\n",
    "    Convierte una cantidad en pesetas a euros.\n",
    "    \"\"\"\n",
    "    euro = peseta / 166.386\n",
    "\n",
    "    return euro\n",
    "\n",
    "mi_euro = 10\n",
    "mi_peseta = euro_to_pta(mi_euro)\n",
    "print(mi_peseta)\n",
    "\n",
    "mi_otro_euro = pta_to_euro(mi_peseta)\n",
    "print(mi_otro_euro)"
   ]
  },
  {
   "attachments": {},
   "cell_type": "markdown",
   "metadata": {},
   "source": [
    "# Energía cinética \n",
    "\n",
    "Crea la función `cinetic_energy(mass, speed)` que acepta la masa y la velocidad de un objeto y devuelve la energía cinética del objeto, calculada con la fórmula: \n",
    "\n",
    "    E = (1/2)mv²**\n",
    "\n",
    " Referencia: https://www.calcuvio.com/energia-cinetica"
   ]
  },
  {
   "cell_type": "code",
   "execution_count": 8,
   "metadata": {},
   "outputs": [
    {
     "name": "stdout",
     "output_type": "stream",
     "text": [
      "62.5\n"
     ]
    }
   ],
   "source": [
    "def cinetic_energy(mass, speed):\n",
    "    \"\"\"\n",
    "    La variable energy almacena el resultado del cálculo de la energía cinética, \n",
    "    y luego la función devuelve este valor.\n",
    "    \"\"\"\n",
    "    energy = (1/2) * mass * speed ** 2 \n",
    "\n",
    "    return energy\n",
    "\n",
    "my_energy = cinetic_energy(5, 5)\n",
    "print(my_energy)"
   ]
  },
  {
   "attachments": {
    "image-2.png": {
     "image/png": "[encoded data removed]"
    },
    "image.png": {
     "image/png": "[encoded data removed]"
    }
   },
   "cell_type": "markdown",
   "metadata": {},
   "source": [
    "---\n",
    "\n",
    "# Funciones Reversibles \n",
    "\n",
    "Las funciones son mecanismos que transforman una cosa en otra: te llevan de `A` a `B`.\n",
    "\n",
    "Por ejemplo, te llevan de (peso, altura) a bmi, o de radio a area, etc. \n",
    "\n",
    "Se dice que mapean su entrada a su salida \n",
    "\n",
    "![image.png](attachment:image.png)\n",
    "\n",
    "A veces, se puede conseguir encontrar la función inversa de una cierta función: \n",
    "\n",
    "Si `f` es una función que te lleva de `A` a `B`, entonces `f_inv` es una función que te lleva de `B` a `A`:\n",
    "\n",
    "`f_inv` es la inversa de `f`. \n",
    "\n",
    "# Ejercicio 1. \n",
    "\n",
    "## La función ¿`euro_to_peseta` es reversible? \n",
    "\n",
    "  La función `euro_to_pta` y `pta_to_euro` son reversibles, lo que significa que si conviertes una cantidad de euros a pesetas y luego conviertes la cantidad resultante de pesetas a euros, deberías obtener la cantidad original de euros.\n",
    "  \n",
    "  Como se puede observar, se obtiene la cantidad en pesetas correspondiente a 10 euros (1663.86 pesetas) y se convierte nuevamente a euros, obteniendo la cantidad original de 10 euros.\n",
    "\n",
    "# Ejercicio 2. \n",
    "\n",
    "## La función `abs` de Python ¿es reversible?\n",
    "  \n",
    "  La función `abs()` de Python no es reversible en el sentido de que no es posible recuperar el valor original a partir de su valor absoluto. \n",
    "  \n",
    "  La función toma un número y devuelve su valor absoluto, es decir, la distancia de ese número al cero sin importar si es positivo o negativo. Por ejemplo, abs(-5) devuelve 5. \n",
    "  \n",
    "  Sin embargo, no es posible saber si el número original era -5 o 5 solo a partir del resultado de la función `abs()`. Por lo tanto, no es posible invertir la función `abs()` para recuperar el número original.\n",
    "  \n",
    "# Ejercicio 3. \n",
    "\n",
    "## La función `bmi` es reversible?\n",
    "\n",
    "  Sí, la función `bmi` es reversible ya que se puede obtener el peso a partir del BMI y la altura. Solo se necesita despejar la fórmula del BMI de la siguiente manera:\n",
    "\n",
    "  `bmi = peso / altura ** 2`\n",
    "  \n",
    "  `peso = bmi * altura ** 2`\n",
    "\n",
    "  Por lo tanto, conociendo el BMI y la altura, se puede calcular el peso original.\n",
    "\n",
    "---\n",
    "# Funciones reversibles estimables \n",
    "\n",
    "Son aquellas que, aunque no se puede obtnere de una función inversa de forma directa, si tenemos más información, podemos estimar un `input` probable a aprtir del `output`. \n",
    "\n",
    "Por ejermplo, la función `bmi`. \n",
    "\n",
    "  Si tenemos muchos datos de alturas y pesos promedios o cómo suelen ir emparejados, a partir de un bmi podríamos estimar posibles combinaciones de altura y peso que sean más probables.Esto es lo que hace el `Deep Learning y las redes neuronales`. \n",
    "  \n",
    "# Funciones Irreversibles \n",
    "\n",
    "Son aquellas que son de un sólo sentido y no hay manera práctica de obtener su inversa. Tienen una enorme importancia en la Ciencia de la Computación, especialmente en la criptografía: \n",
    "\n",
    "![image-2.png](attachment:image-2.png)\n",
    "\n",
    "*   Cada vez que ves en tu browser una `URL` que empieza por `https`, quiere decir que todo lo que te manda el servidor y lo que mandas tú está encriptado mediante una función irreversible. Por ejemplo, cuando pones datos de tu tarjeta al comprar algo. \n",
    "\n",
    "*   Otro caso, más sencillo de funciones irreversibles que veremso (por encima) son las funciones hash (más adelante)."
   ]
  },
  {
   "attachments": {},
   "cell_type": "markdown",
   "metadata": {},
   "source": [
    "# Ecuación de 2º Grado \n",
    "\n",
    "Tienes la siguiente ecuación de segundo grado (¿te acuerdas?): \n",
    "\n",
    "    y = x ** 2 + 3 * x - 2\n",
    "\n",
    "1. Crea la función que calcula y recibe x. \n",
    "\n",
    "## ¿Reversible? \n",
    "\n",
    "### Las funciones (o ecuaciones) cuadráticas (2º grado) ¿son reversibles?\n",
    "\n",
    "Las funciones cuadráticas no son, en general, reversibles, ya que para un mismo valor de la variable independiente (x), puede haber dos posibles valores de la variable dependiente (y).\n",
    "\n",
    "Por ejemplo, para la función y = x^2, si x = 2, entonces y = 4, pero si x = -2, también se tiene que y = 4. En este caso, no se puede invertir la función para obtener un único valor de x a partir de un valor de y, ya que hay dos posibles valores de x para un mismo valor de y.\n",
    "\n",
    "Sin embargo, si se restringe el dominio de la función, es decir, se considera solo un subconjunto de valores de x para los cuales la función es inyectiva, entonces sí sería posible definir una función inversa."
   ]
  },
  {
   "cell_type": "code",
   "execution_count": 9,
   "metadata": {},
   "outputs": [
    {
     "name": "stdout",
     "output_type": "stream",
     "text": [
      "8\n"
     ]
    }
   ],
   "source": [
    "# 1. Crea la funcion que calcula y recibe x\n",
    "\n",
    "def ecuacion_segundo_grado(x):\n",
    "    y = x ** 2 + 3 * x - 2\n",
    "    return y\n",
    "resultado = ecuacion_segundo_grado(2) # resultado = ecuacion_segundo_grado(2)\n",
    "print(resultado)\n"
   ]
  },
  {
   "attachments": {},
   "cell_type": "markdown",
   "metadata": {},
   "source": [
    "---\n",
    "# Funciones Totales y Parciales \n",
    " \n",
    " Tenemos estas dos funciones matemáticas y tienes que crear las funciones de Python equivalentes \n",
    " \n",
    " 1. Prueba ambas funciones con varios valores para asegurarte que funcionan bien. \n",
    "\n",
    "    a)  `f(x, y) = x ** 2 + y ** 2 / x − y`\n",
    "\n",
    "        # Función a)\n",
    "              def f_a(x, y):\n",
    "                return x**2 + y**2 / x - y\n",
    "    \n",
    "    b)  `f(m, n) = m ** 2 − n ** 2 + n / m ∗ n`\n",
    "\n",
    "        # Función b)\n",
    "              def f_b(m, n):\n",
    "                return m**2 - n**2 + n / (m * n)\n",
    " \n",
    " 2. ¿Hay algún valor de `x` o `y` que haga que haga que `(a)` estalle?\n",
    "\n",
    "    En la función `f_a`, si `x` e y son iguales, se produce una división por cero, lo que haría que la función `estalle`. Por lo tanto, se debe evitar que `x` e `y` sean iguales.\n",
    "    \n",
    " 3. ¿Hay algún valor de `m` o `n` que haga que `(b)` estalle?\n",
    "\n",
    "    En la función `f_b`, si `m` o `n` son cero, se produce una división por cero, lo que haría que la función `estalle`. Por lo tanto, se debe evitar que `m` o `n` sean cero.\n",
    " \n",
    " 4. En la función cuadrática anterior, ¿hay algún valor de `x` que haga que la función estalle?\n",
    "\n",
    "    En la función cuadrática `y = x**2 + 3*x - 2`, no hay ningún valor de `x` que haga que la función `estalle`. Por lo tanto, se puede decir que es una función total.\n",
    " \n",
    "    \"Una función es total si acepta todos los posibles valores de sus parámetros.\" \n",
    "  \n",
    "  La función cuadrática anterior es total: acepta números y traga con cualquier número posible. \n",
    "  \n",
    "    \"Una función es parcial si hay uno o más valores de sus parámetros que hacen que no pueda hacer su trabajo.\"\n",
    "  \n",
    "  ### Las funciones (a) y (b) son parciales.\n",
    "\n",
    "    El término \"parcial\" se refiere a que estas funciones no están definidas para ciertos valores de sus parámetros.\n",
    "  \n",
    "  - Si `x` e `y` son iguales, a `f(x,y)` le dá un error.\n",
    "\n",
    "    En el caso de la función `(a)`, si `x` e `y` son iguales, el denominador en el segundo término de la ecuación se vuelve cero, lo que hace que la función no esté definida en ese punto y resulte en un error.\n",
    "  \n",
    "  - Si `m` o `n` son cero, a `f(m,n)` le dá un error.\n",
    "\n",
    "    En el caso de la función `(b)`, si `m` o `n` son cero, el denominador en el segundo término de la ecuación se vuelve cero, lo que también hace que la función no esté definida en ese punto y resulte en un error.\n",
    "\n",
    "    Por lo tanto, estas funciones son parciales porque no están definidas para ciertos valores de sus parámetros y producirán errores si se intenta evaluarlas en esos puntos.\n",
    "\n",
    "---\n",
    "\n",
    "# Conclusión \n",
    "\n",
    "Lo ideal sería que todas nuestras funciones fuesen funciones totales, facilitaría mucho nuestra vida. \n",
    "\n",
    "Como bien sabrás, la vida no es fácil y habrá muchas funciones parciales de por medio. En esos casos, \n",
    "\n",
    "- Tendremos que identificar las condiciones excepcionales (los valores que causan el erro) \n",
    "\n",
    "- Cuando se den, tendremso que gestionar dicho error La gestión de errores se verá con calma más adelante, pero ya eres consciete de su necesidad."
   ]
  },
  {
   "attachments": {
    "image.png": {
     "image/png": "[encoded data removed]"
    }
   },
   "cell_type": "markdown",
   "metadata": {},
   "source": [
    "# Ejercicio \n",
    "\n",
    "Repasa todas las funciones que has creado hasta ahora y clasifícalas como totales o parciales. Si son parciales, identifica las condiciones excepcionales. \n",
    "\n",
    "## Distancia entre dos puntos en el plano cartesiano.\n",
    "\n",
    "![image.png](attachment:image.png)\n",
    "\n",
    "Si tenemos dos puntos: \n",
    "\n",
    "    p1(x1,y1) \n",
    "    \n",
    "    p2(x2,y2) \n",
    "\n",
    "Su distancia cartesiana sería la siguiente: \n",
    "\n",
    "    distancia = √((x2 - x1)² + (y2 - y1)²)\n",
    "\n",
    "1. Crear una función que recibe la `x` e `y` del primer punto y la `x` e `y` del segundo punto.\n",
    "\n",
    "2. Devuelve la distancia cartesiana."
   ]
  },
  {
   "cell_type": "code",
   "execution_count": 10,
   "metadata": {},
   "outputs": [
    {
     "name": "stdout",
     "output_type": "stream",
     "text": [
      "La distancia entre los puntos (2, 3) y (5, 7) es 5.0\n"
     ]
    }
   ],
   "source": [
    "# Crear una función que recibe la x e y del primer punto y la x e y del segundo punto.\n",
    "\n",
    "def distancia_cartesiana(x1, y1, x2, y2):\n",
    "    \"\"\"\n",
    "    Calcula la distancia cartesiana entre dos puntos dados por sus coordenadas\n",
    "    (x, y)\n",
    "    \"\"\"\n",
    "    distancia = ((x1 - x2) ** 2 + (y1 - y2) ** 2) ** 0.5\n",
    "    return distancia\n",
    "\n",
    "# Se definen los dos puntos\n",
    "\n",
    "punto1 = (2, 3)\n",
    "punto2 = (5, 7)\n",
    "\n",
    "\"\"\" \n",
    "Se calcula la distancia cratesiana entre ellos, En el código anterior se \n",
    "utiliza la función distancia_cartesiana para calcular la distancia cartesiana \n",
    "entre dos puntos. La función toma como argumentos las coordenadas x e y de \n",
    "cada punto y devuelve la distancia calculada utilizando la fórmula mencionada.\n",
    "\"\"\"\n",
    "\n",
    "distancia = distancia_cartesiana(punto1[0], punto1[1], punto2[0], punto2[1])\n",
    "\n",
    "\"\"\"\n",
    "Se llama a la función distancia_cartesiana pasándole como argumentos las \n",
    "coordenadas x e y de cada punto, que se encuentran almacenadas en las variables \n",
    "punto1 y punto2. La distancia calculada será almacenada en la variable distancia.\n",
    "\"\"\"\n",
    "\n",
    "# Se imprime el resultado\n",
    "\n",
    "print(\"La distancia entre los puntos\", punto1, \"y\", punto2, \"es\", distancia)"
   ]
  },
  {
   "attachments": {},
   "cell_type": "markdown",
   "metadata": {},
   "source": [
    "# Curiosidad \n",
    "\n",
    "Esta es la `distancia cartesiana`, pero hay otros tipos de distancias definidas entre puntos. \n",
    "\n",
    "La `distancia cartesiana` es la primera que te muestra Google Maps o Waze cunado pides que te lleve a algún sitio. Normalmente cuando pides que calcule la ruta, te llevas un chasco, porque te da otra distancia mayor.\n",
    "\n",
    "## ¿¿Por qué?? \n",
    "\n",
    "> Porque la distancia cartesiana sólo vale si puedes volar. Si tienes que ir entre calles, tendrás que dar vueltas y eso incrementa la distancia.\n",
    "\n",
    ">¿Por qué crees que Google hace eso?\n",
    "\n",
    "> Es porque la distancia que calculan es la distancia de conducción o la distancia por carretera, no la distancia en línea recta entre los dos puntos.\n",
    "La distancia de conducción toma en cuenta factores como las carreteras y las calles que debes seguir, la velocidad límite en diferentes tramos, el tráfico y otros obstáculos en el camino. Mientras tanto, la distancia cartesiana solo mide la distancia en línea recta entre dos puntos.\n",
    "Por lo tanto, la distancia de conducción generalmente será mayor que la distancia cartesiana, ya que es la distancia real que tienes que recorrer para llegar a tu destino en lugar de una distancia en línea recta entre dos puntos.\n",
    "\n",
    "Otra distancia, algo más realista para la navegación por ciudades, es la distancia manhattan. \n",
    "\n",
    "> La distancia Manhattan se calcula sumando las diferencias absolutas entre las coordenadas de los puntos en cada dimensión. En otras palabras, se suma la distancia horizontal y la distancia vertical entre los dos puntos. Matemáticamente, la distancia Manhattan entre dos puntos (x1, y1) y (x2, y2) es:\n",
    "\n",
    "    d_manhattan = |x1 - x2| + |y1 - y2|\n",
    "\n",
    "\n",
    "Averigua en la wikipedia qué es la distancia manhattan, por qué se llama así y cómo calcularla. `Crea la función Python correspondiente`.\n",
    "\n",
    "> La distancia Manhattan, también conocida como la distancia del taxista, es una medida de la distancia entre dos puntos en un espacio bidimensional. Se llama así porque se asemeja a cómo un taxi tendría que moverse en una ciudad con bloques cuadrados."
   ]
  },
  {
   "cell_type": "code",
   "execution_count": 11,
   "metadata": {},
   "outputs": [
    {
     "name": "stdout",
     "output_type": "stream",
     "text": [
      "7\n"
     ]
    }
   ],
   "source": [
    "# Este es el calculo de la distancia Manhattan:\n",
    "\n",
    "def distancia_manhattan(x1, y1, x2, y2):\n",
    "    \"\"\"\n",
    "    Calcula la distancia Manhattan entre dos puntos en un plano cartesiano.\n",
    "    \"\"\"\n",
    "    return abs(x1 - x2) + abs(y1 - y2)\n",
    "\n",
    "\"\"\"\n",
    "Esta función toma cuatro parámetros: las coordenadas x e y del primer punto \n",
    "y las coordenadas x e y del segundo punto. Devuelve la distancia Manhattan \n",
    "entre los dos puntos.\n",
    "\"\"\"\n",
    "\n",
    "distancia = distancia_manhattan(2, 3, 5, 7)\n",
    "print(distancia)"
   ]
  },
  {
   "attachments": {},
   "cell_type": "markdown",
   "metadata": {},
   "source": [
    "---\n",
    "# Abstracción al rescate \n",
    "\n",
    "El concepto de abstracción era precisamente empaquetar una o varias cosas, olvidarnos de sus tripas (caja negra) y tratarla como una sóla entidad. \n",
    "\n",
    "Esa es la salida a nuestro problema: \n",
    "\n",
    "\n",
    "> Tenemos que buscar una forma de empaquetar las dos coordenadas en un solo concepto (punto) y tratarlo como una sola cosa.\n",
    "\n",
    "Ya hemos visto un ejemplo de algo así en Python. Recuerda los módulos: \n",
    "\n",
    "1. Representan todas las `definiciones globales` que hay dentro de un fichero. \n",
    "\n",
    "2. Por ejemplo el módulo `math` aglutina todas esas definiciones y te permite tratarlas como una sola cosa, llamada `math`. \n",
    "\n",
    "3. Para acceder a alguno de sus componentes, usamos punto: `math.pi` \n",
    "\n",
    "**No estaría de más poder hacer algo así con los puntos** y acceder a ellos de la siguiente manera: `punto1.y` o `punto1.x`.\n",
    "  \n",
    "  La función `area_vert` tendría una pinta más sencilla:\n",
    "\n",
    "        def area_vert(v1, v2, v3, v4):\n",
    "          # Recibes los vertices que encapsulan o agrupan\n",
    "          # las dos coordenadas \"x\" e \"y\"\n",
    "          # Para hacer las cuentas, si necesitas accder a una\n",
    "          # de ellas, harias \"v1.x\" o \"v2.y\", etc...\n",
    "\n",
    "---\n",
    "\n",
    "# Abstracciones.\n",
    "\n",
    "Hemos visto dos abstraciones hasta ahora: \n",
    "\n",
    "  1. **Abstracción de Variable:** Pillo un dato, lo meto dentro de una cajita y le doy un nombre. Me permite reutilizar datos. \n",
    "  \n",
    "  2. **Abstracción de Función:** Pillo una expresión, la meto en una cajita y le doy un nombre. Me permite reutilizar expresiones. \n",
    "  \n",
    "  Ahora hemos visto una tercera:\n",
    "\n",
    ">**Abstración de Objeto:** pillo varias variables (en ¡incluso varias funciones!), las meto en una cajita y le doy un nombre. Me permite reutilizar esos conjuntos de variables y funciones y acceda a ellas mediante un punto.\n",
    "  \n",
    "Si te fijas, una engloba a otra, como las muñecas rusas: \n",
    "  \n",
    "En el fondo, **no son más que diferentes formas de empaquetar cosas** en cajas negras y olvidarnos un poco de su contenido y detalles internos. Es decir, vagancia productiva. \n",
    "  \n",
    "  # Abstracción de Objeto.\n",
    "  \n",
    "  Más adelante ya veremos con detalle la abstracción de objeto con detalle. Sin embargo, ya has sentido en tus carnes la necesidad que nos ha llevado a inventarla. De momento seguiremos con la abstracción de variable y la abstracción de función. \n",
    "  \n",
    "  # ¿Qué hemos aprendido?\n",
    "\n",
    "  Las funciones pueden ser: \n",
    "  \n",
    "  Reversibles \n",
    "  Irreversibles (buenas para cripto) \n",
    "  Reversibles estimables (carne de red neuronal) \n",
    "  Totales (chachi) \n",
    "  Parciales (hay que identificar los errores y gestionarlos, con calma más adelante) \n",
    "\n",
    "* Reversibles \n",
    "* Irreversibles (buenas para cripto) \n",
    "* Reversibles estimables (carne de red neuronal) \n",
    "* Totales (chachi) \n",
    "* Parciales (hay que identificar los errores y gestionarlos, con calma más adelante) \n",
    "\n",
    "\n",
    "  \n",
    "Hay 3 tipos de abstraciones: \n",
    "  \n",
    "* Variable \n",
    "* Función \n",
    "* Objeto (veremos con calma más adelante) \n",
    "* Los 3 casos son formas de vaguear, hacer más con menos y olvidarnos de detalles irrelevantes"
   ]
  }
 ],
 "metadata": {
  "kernelspec": {
   "display_name": "Python 3",
   "language": "python",
   "name": "python3"
  },
  "language_info": {
   "codemirror_mode": {
    "name": "ipython",
    "version": 3
   },
   "file_extension": ".py",
   "mimetype": "text/x-python",
   "name": "python",
   "nbconvert_exporter": "python",
   "pygments_lexer": "ipython3",
   "version": "3.11.1"
  },
  "orig_nbformat": 4
 },
 "nbformat": 4,
 "nbformat_minor": 2
}
