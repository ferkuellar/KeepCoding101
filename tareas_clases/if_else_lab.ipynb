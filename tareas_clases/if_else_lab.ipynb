{
 "cells": [
  {
   "attachments": {},
   "cell_type": "markdown",
   "metadata": {},
   "source": [
    "# Ejercicios if else\n",
    "\n",
    "---\n",
    "\n",
    "## Ejercicio 1\n",
    "\n",
    "\n",
    "Tienes que clasificar los exámenes de un montón de alumnos. Dichos exámenes tienen una nota numéricadel 0 al 10. El mínimo para aprobar está en un 7.\n",
    "Crea una función `passes_test` que recibe una nota numérica y devuelve True si es igual o superior a 7 y False en caso contrario."
   ]
  },
  {
   "cell_type": "code",
   "execution_count": 7,
   "metadata": {},
   "outputs": [
    {
     "name": "stdout",
     "output_type": "stream",
     "text": [
      "False\n"
     ]
    }
   ],
   "source": [
    "def passes_test(score):\n",
    "    if score >= 70:\n",
    "        return True\n",
    "    else:\n",
    "        return False\n",
    "\n",
    "print(passes_test(60))"
   ]
  },
  {
   "attachments": {
    "image.png": {
     "image/png": "[encoded data removed]"
    }
   },
   "cell_type": "markdown",
   "metadata": {},
   "source": [
    "---\n",
    "\n",
    "# Ejercicio 2\n",
    "\n",
    "Aunque parezca mentira, se puede usar el sonido de los grillos para saber la temperatura. La frecuencia delgrillo (ruídos por minuto) depende de su metabolismo, que a su vez depende de la temperatura.\n",
    "\n",
    "La fórmula para obetner la temperatura a partir de la frecuencia (en minutos) es la siguiente:\n",
    "\n",
    "![image.png](attachment:image.png)\n",
    "\n",
    "Crea la función `temp` que reibe la frecuencia y chirridos por minuto y te devulve la temperatura.\n",
    "\n",
    "### ¡OJO¡ Esto sólo es válido `par t > 0` \n",
    "\n",
    "Nuestra función no es total, es parcial y deberíamos tener en cuenta la condición excepcional `(t<=0)` y gestionar dicho error. Aun no sabemos cómo hacerlo, pero lo veremos luego."
   ]
  },
  {
   "cell_type": "code",
   "execution_count": 20,
   "metadata": {},
   "outputs": [
    {
     "name": "stdout",
     "output_type": "stream",
     "text": [
      "Si los grillos chirrian a 100 chirridos por minuto, la temperatura es 18.6 grados Celsius.\n"
     ]
    }
   ],
   "source": [
    "def temp(frecuencia):\n",
    "    \"\"\" \n",
    "    1. La función temp comprueba si la frecuencia es menor o igual a cero. Si es así, levanta una excepción ValueError con el mensaje \"La frecuencia debe ser mayor que cero\".\n",
    "    \n",
    "    2. Si la frecuencia es mayor que cero, la función calcula la temperatura usando la fórmula dada y la guarda en la variable temperatura.\n",
    "    \n",
    "    3. la función devuelve el valor de la temperatura calculada.\n",
    "    \"\"\"\n",
    "\n",
    "    if frecuencia <= 0:\n",
    "        raise ValueError(\"La frecuencia no puede ser menor o igual a 0\")\n",
    "    temperatura = 10 + ((frecuencia -40) / 7)\n",
    "    return temperatura\n",
    "\n",
    "frecuencia = 100\n",
    "temperatura = temp(frecuencia)\n",
    "\n",
    "print(f\"Si los grillos chirrian a {frecuencia} chirridos por minuto, la temperatura es {temperatura:.1f} grados Celsius.\")"
   ]
  },
  {
   "attachments": {},
   "cell_type": "markdown",
   "metadata": {},
   "source": [
    "# Nota: \n",
    "\n",
    "La fórmula dada para obtener la temperatura a partir de la frecuencia de los grillos es solo válida en un rango de temperaturas. Para temperaturas muy bajas o muy altas, la fórmula ya no funciona. Además, otros factores como la humedad o la presión atmosférica también pueden afectar la frecuencia del canto de los grillos."
   ]
  },
  {
   "attachments": {},
   "cell_type": "markdown",
   "metadata": {},
   "source": [
    "--- \n",
    "# Ejercicio 3\n",
    "\n",
    "En una empresa quieren subir el sueldo a todos los empleados cuyo sueldo sea inferior a un cierto nivel.\n",
    "Crea la función `new_salary` que recibe el sueldo actual. Si dicho sueldo es inferior o igual a `€1000`, leaplica un incremento del `8%`. Si no, se queda como está."
   ]
  }
 ],
 "metadata": {
  "kernelspec": {
   "display_name": "Python 3",
   "language": "python",
   "name": "python3"
  },
  "language_info": {
   "codemirror_mode": {
    "name": "ipython",
    "version": 3
   },
   "file_extension": ".py",
   "mimetype": "text/x-python",
   "name": "python",
   "nbconvert_exporter": "python",
   "pygments_lexer": "ipython3",
   "version": "3.11.1"
  },
  "orig_nbformat": 4
 },
 "nbformat": 4,
 "nbformat_minor": 2
}
