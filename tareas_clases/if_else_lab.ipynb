{
 "cells": [
  {
   "attachments": {},
   "cell_type": "markdown",
   "metadata": {},
   "source": [
    "# Ejercicios if else\n",
    "\n",
    "---\n",
    "\n",
    "## Ejercicio 1\n",
    "\n",
    "\n",
    "Tienes que clasificar los exámenes de un montón de alumnos. Dichos exámenes tienen una nota numéricadel 0 al 10. El mínimo para aprobar está en un 7.\n",
    "Crea una función `passes_test` que recibe una nota numérica y devuelve True si es igual o superior a 7 y False en caso contrario."
   ]
  },
  {
   "cell_type": "code",
   "execution_count": 7,
   "metadata": {},
   "outputs": [
    {
     "name": "stdout",
     "output_type": "stream",
     "text": [
      "False\n"
     ]
    }
   ],
   "source": [
    "def passes_test(score):\n",
    "    if score >= 70:\n",
    "        return True\n",
    "    else:\n",
    "        return False\n",
    "\n",
    "print(passes_test(60))"
   ]
  },
  {
   "attachments": {
    "image.png": {
     "image/png": "[encoded data removed]"
    }
   },
   "cell_type": "markdown",
   "metadata": {},
   "source": [
    "---\n",
    "\n",
    "## Ejercicio 2\n",
    "\n",
    "Aunque parezca mentira, se puede usar el sonido de los grillos para saber la temperatura. La frecuencia delgrillo (ruídos por minuto) depende de su metabolismo, que a su vez depende de la temperatura.\n",
    "\n",
    "La fórmula para obetner la temperatura a partir de la frecuencia (en minutos) es la siguiente:\n",
    "\n",
    "![image.png](attachment:image.png)\n",
    "\n",
    "Crea la función `temp` que reibe la frecuencia y chirridos por minuto y te devulve la temperatura.\n",
    "\n",
    "### ¡OJO¡ Esto sólo es válido `par t > 0` \n",
    "\n",
    "Nuestra función no es total, es parcial y deberíamos tener en cuenta la condición excepcional `(t<=0)` y gestionar dicho error. Aun no sabemos cómo hacerlo, pero lo veremos luego."
   ]
  },
  {
   "cell_type": "code",
   "execution_count": 20,
   "metadata": {},
   "outputs": [
    {
     "name": "stdout",
     "output_type": "stream",
     "text": [
      "Si los grillos chirrian a 100 chirridos por minuto, la temperatura es 18.6 grados Celsius.\n"
     ]
    }
   ],
   "source": [
    "def temp(frecuencia):\n",
    "    \"\"\" \n",
    "    1. La función temp comprueba si la frecuencia es menor o igual a cero. Si es así, levanta una excepción ValueError con el mensaje \"La frecuencia debe ser mayor que cero\".\n",
    "    \n",
    "    2. Si la frecuencia es mayor que cero, la función calcula la temperatura usando la fórmula dada y la guarda en la variable temperatura.\n",
    "    \n",
    "    3. la función devuelve el valor de la temperatura calculada.\n",
    "    \"\"\"\n",
    "\n",
    "    if frecuencia <= 0:\n",
    "        raise ValueError(\"La frecuencia no puede ser menor o igual a 0\")\n",
    "    temperatura = 10 + ((frecuencia -40) / 7)\n",
    "    return temperatura\n",
    "\n",
    "frecuencia = 100\n",
    "temperatura = temp(frecuencia)\n",
    "\n",
    "print(f\"Si los grillos chirrian a {frecuencia} chirridos por minuto, la temperatura es {temperatura:.1f} grados Celsius.\")"
   ]
  },
  {
   "attachments": {},
   "cell_type": "markdown",
   "metadata": {},
   "source": [
    "# Nota: \n",
    "\n",
    "La fórmula dada para obtener la temperatura a partir de la frecuencia de los grillos es solo válida en un rango de temperaturas. Para temperaturas muy bajas o muy altas, la fórmula ya no funciona. Además, otros factores como la humedad o la presión atmosférica también pueden afectar la frecuencia del canto de los grillos."
   ]
  },
  {
   "attachments": {},
   "cell_type": "markdown",
   "metadata": {},
   "source": [
    "--- \n",
    "## Ejercicio 3\n",
    "\n",
    "En una empresa quieren subir el sueldo a todos los empleados cuyo sueldo sea inferior a un cierto nivel.\n",
    "Crea la función `new_salary` que recibe el sueldo actual. Si dicho sueldo es inferior o igual a `€1000`, leaplica un incremento del `8%`. Si no, se queda como está."
   ]
  },
  {
   "attachments": {},
   "cell_type": "markdown",
   "metadata": {},
   "source": [
    "### Ejercicio 3.1"
   ]
  },
  {
   "cell_type": "code",
   "execution_count": 33,
   "metadata": {},
   "outputs": [
    {
     "name": "stdout",
     "output_type": "stream",
     "text": [
      "El sueldo actual es 900 y el nuevo sueldo es 972.0000000000001.\n"
     ]
    }
   ],
   "source": [
    "def new_salary(old_salary):\n",
    "    \"\"\" \n",
    "    1. La función new_salary toma el parámetro sueldo_actual que representa el sueldo actual del empleado.\n",
    "    \n",
    "    2. La función comprueba si el sueldo_actual es menor o igual a 1000. Si es así, se aplica un incremento del 8% y se guarda el nuevo sueldo en la variable nuevo_sueldo.\n",
    "    \n",
    "    3. Si el sueldo_actual es mayor que 1000, no se aplica ningún incremento y se devuelve el sueldo actual.\n",
    "    \n",
    "    4. Por último, la función devuelve el valor de nuevo_sueldo o sueldo_actual dependiendo del caso.\n",
    "    \"\"\"\n",
    "    if sueldo_actual <= 1000:\n",
    "        nuevo_sueldo = old_salary * 1.08\n",
    "    else:\n",
    "        nuevo_sueldo = old_salary\n",
    "    return nuevo_sueldo\n",
    "\n",
    "sueldo_actual = 900\n",
    "nuevo_sueldo = new_salary(sueldo_actual)\n",
    "print(f\"El sueldo actual es {sueldo_actual} y el nuevo sueldo es {nuevo_sueldo}.\")"
   ]
  },
  {
   "attachments": {},
   "cell_type": "markdown",
   "metadata": {},
   "source": [
    "No está mal, pero el fantasma de Edsger Dijkstra (averigua quién fue) te perseguirá toda tu vida:\n",
    "\n",
    "`Una función sólo puede tener un punto de salida, es decir, un sólo return.`"
   ]
  },
  {
   "attachments": {},
   "cell_type": "markdown",
   "metadata": {},
   "source": [
    "### Ejercicio 3.2\n",
    "\n",
    "Ya tienes la función como le gustaría al programador más gruñón de la historia:"
   ]
  },
  {
   "cell_type": "code",
   "execution_count": 36,
   "metadata": {},
   "outputs": [
    {
     "name": "stdout",
     "output_type": "stream",
     "text": [
      "El sueldo actual es 1100 y el nuevo sueldo es 1100.\n"
     ]
    }
   ],
   "source": [
    "def new_salary(old_salary):\n",
    "    new_salary = old_salary\n",
    "    if old_salary <= 1000:\n",
    "        new_salary = old_salary * 1.08\n",
    "    return new_salary\n",
    "\n",
    "sueldo_actual = 1100\n",
    "nuevo_sueldo = new_salary(sueldo_actual)\n",
    "print(f\"El sueldo actual es {sueldo_actual} y el nuevo sueldo es {nuevo_sueldo}.\")"
   ]
  },
  {
   "attachments": {},
   "cell_type": "markdown",
   "metadata": {},
   "source": [
    "### Ejercicio 3.3\n",
    "\n",
    "Ya tienes la función como le gustaría al programador más gruñón de la historia:\n",
    "\n",
    "Al mes siguiente te dicen que se equivocaron y que quieren subirle el sueldo a todos los que tengan unsueldo inferior a €1200, un 9%.\n",
    "\n",
    "¿Cómo usarias la misma función, haciendo las menores modificaciones posibles y sabiendo que es muyprobable que lo vuelvan a cambiar en el futuro?\n",
    "\n",
    "`Parametriza todo y usa valores por defecto para los valores comunes.`"
   ]
  },
  {
   "cell_type": "code",
   "execution_count": 44,
   "metadata": {},
   "outputs": [
    {
     "name": "stdout",
     "output_type": "stream",
     "text": [
      "1300\n"
     ]
    }
   ],
   "source": [
    "def new_salary(old_salary, threshold = 1200, rise = 0.09):\n",
    "    new_salary = old_salary\n",
    "    if old_salary <= threshold:\n",
    "        new_salary = old_salary * (1 + rise)\n",
    "    return new_salary\n",
    "\n",
    "print(new_salary(1300))"
   ]
  },
  {
   "attachments": {},
   "cell_type": "markdown",
   "metadata": {},
   "source": [
    "---\n",
    "\n",
    "## Ejercicio 4\n",
    "\n",
    "Modifica todos los ejercicios anterior para que tengan un solo return"
   ]
  },
  {
   "attachments": {},
   "cell_type": "markdown",
   "metadata": {},
   "source": [
    "---\n",
    "### Ejercicio 3 -> 4.1"
   ]
  },
  {
   "cell_type": "code",
   "execution_count": 51,
   "metadata": {},
   "outputs": [
    {
     "name": "stdout",
     "output_type": "stream",
     "text": [
      "972.0000000000001\n",
      "1200\n"
     ]
    }
   ],
   "source": [
    "def new_salary(old_salary, threshold=1000, increment=1.08):\n",
    "    \"\"\" \n",
    "    Incrementa el sueldo si es menor o igual que el umbral especificado.\n",
    "    Si no, devuelve el sueldo actual.\n",
    "    \"\"\"\n",
    "    \n",
    "    if old_salary <= threshold:\n",
    "        new_salary = old_salary * increment\n",
    "    else:\n",
    "        new_salary = old_salary\n",
    "    return new_salary\n",
    "\n",
    "print(new_salary(900))\n",
    "print(new_salary(1200))"
   ]
  },
  {
   "attachments": {},
   "cell_type": "markdown",
   "metadata": {},
   "source": [
    "### Explicación:\n",
    "\n",
    "La función new_salary toma tres parámetros: \n",
    "\n",
    "    -- old_salary, que representa el sueldo actual del empleado.\n",
    "    -- threshold, que es el umbral para determinar si el sueldo debe incrementarse.\n",
    "    -- increment, que es el incremento a aplicar si el sueldo actual está por debajo del maximo.\n",
    "\n",
    "La función comprueba si el old_salary es menor o igual que `threshold`. Si es así, se aplica el `increment` y se guarda el nuevo sueldo en la variable `new_salary`.\n",
    "\n",
    "Si el `old_salary` es mayor que `threshold`, no se aplica ningún incremento y se devuelve el sueldo actual.\n",
    "\n",
    "Por último, la función devuelve el valor de `new_salary` o `old_salary` dependiendo del caso."
   ]
  },
  {
   "attachments": {},
   "cell_type": "markdown",
   "metadata": {},
   "source": [
    "---\n",
    "### Ejercicio 3.1 -> 4.1\n",
    "\n",
    "Se puede simplificar eliminando la variable `new_salary` que no es necesaria y podemos devolver directamente el nuevo salario calculado. También podemos hacer que el porcentaje de aumento sea una variable para que sea más fácil de cambiar en el futuro."
   ]
  },
  {
   "cell_type": "code",
   "execution_count": 56,
   "metadata": {},
   "outputs": [
    {
     "name": "stdout",
     "output_type": "stream",
     "text": [
      "El sueldo actual es 1010 y el nuevo sueldo es 1010.\n"
     ]
    }
   ],
   "source": [
    "def new_salary(old_salary):\n",
    "    \"\"\" \n",
    "    La función new_salary toma el parámetro sueldo_actual que representa el sueldo actual del empleado.\n",
    "    Si el sueldo_actual es menor o igual a 1000, se aplica un incremento del 8%. Si el sueldo_actual es mayor que 1000, no se aplica ningún incremento y se devuelve el sueldo actual.\n",
    "    Por último, la función devuelve el nuevo sueldo.\n",
    "    \"\"\"\n",
    "    aumento_porcentual = 0.08\n",
    "    if old_salary <= 1000:\n",
    "        nuevo_sueldo = old_salary * (1 + aumento_porcentual)\n",
    "    else:\n",
    "        nuevo_sueldo = old_salary\n",
    "    return nuevo_sueldo\n",
    "\n",
    "sueldo_actual = 1010\n",
    "nuevo_sueldo = new_salary(sueldo_actual)\n",
    "print(f\"El sueldo actual es {sueldo_actual} y el nuevo sueldo es {nuevo_sueldo}.\")\n"
   ]
  },
  {
   "attachments": {},
   "cell_type": "markdown",
   "metadata": {},
   "source": [
    "---\n",
    "### Ejercicio 3.2 -> 4.2"
   ]
  },
  {
   "cell_type": "code",
   "execution_count": 58,
   "metadata": {},
   "outputs": [
    {
     "name": "stdout",
     "output_type": "stream",
     "text": [
      "1090.0\n"
     ]
    }
   ],
   "source": [
    "def new_salary(old_salary, threshold=1200, rise=0.09):\n",
    "    \"\"\" \n",
    "    La función new_salary toma el parámetro old_salary que representa el sueldo actual del empleado.\n",
    "    Si old_salary es menor o igual a threshold, se aplica un incremento del rise por ciento.\n",
    "    Si old_salary es mayor que threshold, no se aplica ningún incremento y se devuelve el sueldo actual.\n",
    "    Por último, la función devuelve el nuevo sueldo.\n",
    "    \"\"\"\n",
    "    if old_salary <= threshold:\n",
    "        old_salary *= (1 + rise)\n",
    "    return old_salary\n",
    "\n",
    "print(new_salary(1000))\n"
   ]
  },
  {
   "attachments": {},
   "cell_type": "markdown",
   "metadata": {},
   "source": [
    "---\n",
    "## Ejercicio 5\n",
    "\n",
    "¡Primavera en El Corte Inglés! Si en tu carta de compra tienes un total superior a €1400, se te aplicará undescuento del `15%`.\n",
    "Crea la función `discount` que recibe el total y devuelve el descuento en euros. Si el total es €1400 o más,se devuelve el nuevo precio con el descuento aplicado.\n",
    "\n",
    "Si la compra es de menos de `€1400`, el descuento no se aplica y la función devuelve el total original."
   ]
  },
  {
   "cell_type": "code",
   "execution_count": 62,
   "metadata": {},
   "outputs": [
    {
     "name": "stdout",
     "output_type": "stream",
     "text": [
      "1300\n"
     ]
    }
   ],
   "source": [
    "def discount(compra):\n",
    "    if compra >= 1400:\n",
    "        disc = compra / 1.15\n",
    "    else:\n",
    "        disc = compra\n",
    "        \n",
    "    return disc\n",
    "    \n",
    "print(discount(1300))"
   ]
  },
  {
   "attachments": {},
   "cell_type": "markdown",
   "metadata": {},
   "source": [
    "---\n",
    "## Ejercicio 6\n",
    "\n",
    "Se ha descubierto que el consumo de cerveza (en litros) por persona y al mes puede ser estimado según latemperatura promedio de \n",
    "dicho mes (en Celsius).\n",
    "\n",
    "La fórmula encontrada es la siguiente:\n",
    "\n",
    "                            𝑙𝑖𝑡𝑟𝑜𝑠 = 1.2 ∗ 𝑡𝑒𝑚𝑝 − 22\n"
   ]
  },
  {
   "attachments": {},
   "cell_type": "markdown",
   "metadata": {},
   "source": [
    "\n",
    "1. Crea la función `beer_per_month` que estima esa fórmula: recibe la temperatura y devuelve los litrospor barba (estimados)\n",
    "   \n",
    "    A). ¿Es una función total o parcial?\n",
    "\n",
    "        Esta función es parcial, ya que solo funciona para estimar el consumo de cerveza en función de la temperatura."
   ]
  },
  {
   "cell_type": "code",
   "execution_count": 3,
   "metadata": {},
   "outputs": [
    {
     "name": "stdout",
     "output_type": "stream",
     "text": [
      "14.0\n"
     ]
    }
   ],
   "source": [
    "def beer_per_month(temp):\n",
    "    \"\"\"\n",
    "    Estima el consumo de cerveza (en litros) por persona y al mes según la temperatura promedio de dicho mes.\n",
    "    \"\"\"\n",
    "    litros = 1.2 * temp - 22\n",
    "    \n",
    "    return litros\n",
    "\n",
    "print(beer_per_month(30))"
   ]
  },
  {
   "attachments": {},
   "cell_type": "markdown",
   "metadata": {},
   "source": [
    "2. Crea la función `is_too_much_beer` que recibe la temperatura, los litros que una persona ha bebido y devuelve `True`si la persona se está pasando (bebiendo más del promedio) y `False` en casocontrario."
   ]
  },
  {
   "cell_type": "code",
   "execution_count": 4,
   "metadata": {},
   "outputs": [
    {
     "name": "stdout",
     "output_type": "stream",
     "text": [
      "True\n"
     ]
    }
   ],
   "source": [
    "def is_too_much_beer(temp, litros):\n",
    "    \"\"\"\n",
    "    Determina si una persona se está pasando con el consumo de cerveza en base a la temperatura y los litros consumidos.\n",
    "    \"\"\"\n",
    "    promedio_litros = beer_per_month(temp)\n",
    "    return litros > promedio_litros\n",
    "    \n",
    "print(is_too_much_beer(20, 30))"
   ]
  },
  {
   "attachments": {},
   "cell_type": "markdown",
   "metadata": {},
   "source": [
    "3. Ahora crea la función `is_too_little_beer` que recibe lo mimso que la anterior, pero devuelve `True` si está bebiendo de menos y `False` si bebe de más.\n",
    "\n",
    "    A). ¿Seguro que no hay una forma más sencilla de hacerlo?\n",
    "\n",
    "        En lugar de crear una función separada para determinar si alguien está bebiendo demasiado o muy poco, podríamos simplemente tener una función que determine si alguien está bebiendo dentro del rango de consumo normal basado en la temperatura."
   ]
  },
  {
   "cell_type": "code",
   "execution_count": 5,
   "metadata": {},
   "outputs": [
    {
     "name": "stdout",
     "output_type": "stream",
     "text": [
      "False\n"
     ]
    }
   ],
   "source": [
    "def is_too_little_beer(temp, litros):\n",
    "    \"\"\"\n",
    "    Determina si una persona está bebiendo muy poco en base a la temperatura y los litros consumidos.\n",
    "    \"\"\"\n",
    "    promedio_litros = beer_per_month(temp)    \n",
    "    return litros < promedio_litros\n",
    "\n",
    "print(is_too_little_beer(20, 30))"
   ]
  },
  {
   "attachments": {},
   "cell_type": "markdown",
   "metadata": {},
   "source": [
    " Podríamos hacer esto de la siguiente manera:"
   ]
  },
  {
   "cell_type": "code",
   "execution_count": 7,
   "metadata": {},
   "outputs": [
    {
     "name": "stdout",
     "output_type": "stream",
     "text": [
      "False\n"
     ]
    }
   ],
   "source": [
    "def is_normal_beer(temp, litros):\n",
    "    \"\"\"\n",
    "    Determina si una persona está bebiendo una cantidad normal de cerveza en base a la temperatura y los litros consumidos.\n",
    "    \"\"\"\n",
    "    promedio_litros = beer_per_month(temp)\n",
    "    limite_bajo = promedio_litros * 0.8\n",
    "    limite_alto = promedio_litros * 1.2\n",
    "    \n",
    "    return limite_bajo <= litros <= limite_alto # Esta línea se llama una expresión booleana o una comparación encadenada\n",
    "\n",
    "print(is_normal_beer(20, 30))"
   ]
  },
  {
   "attachments": {},
   "cell_type": "markdown",
   "metadata": {},
   "source": [
    "Esta función determina si el consumo de cerveza de una persona está dentro del 80% al 120% del consumo promedio basado en la temperatura."
   ]
  },
  {
   "attachments": {},
   "cell_type": "markdown",
   "metadata": {},
   "source": [
    "---\n",
    "## Ejercicio 7.\n",
    "\n",
    "Hay un operador aritmético llamado `módulo` que no hemso visto hasta ahora. Funciona como la división, pero el resultado que te dá es el resto de la división entera.\n",
    "\n",
    "Por ejemplo, `3 / 2` devuelve `1.5`, mientras que `3 % 2` devuelve `0.5`.\n",
    "\n",
    "Esto nos permite saber si un nomero es divisible por otro: si el resultado de la operación es cero.\n",
    "\n",
    "Crea dos funciones `is_even` y `is_odd` que reciben un número y determinar si éste es `par o impar`, respectivamente."
   ]
  },
  {
   "cell_type": "code",
   "execution_count": 10,
   "metadata": {},
   "outputs": [
    {
     "name": "stdout",
     "output_type": "stream",
     "text": [
      "True\n",
      "False\n"
     ]
    }
   ],
   "source": [
    "def is_even(num):\n",
    "    \"\"\"\n",
    "    Determina si un número es par.\n",
    "    \"\"\"\n",
    "    return num % 2 == 0\n",
    "\n",
    "def is_odd(num):\n",
    "    \"\"\"\n",
    "    Determina si un número es impar.\n",
    "    \"\"\"\n",
    "    return num % 2 == 1\n",
    "\n",
    "print(is_even(4))\n",
    "print(is_odd(4))"
   ]
  },
  {
   "attachments": {},
   "cell_type": "markdown",
   "metadata": {},
   "source": [
    "La función `is_even` devuelve True si el número es par, es decir, si el resto de su división por 2 es cero, y False en caso contrario. La función `is_odd` devuelve True si el número es impar, es decir, si el resto de su división por 2 es uno, y False en caso contrario."
   ]
  },
  {
   "attachments": {},
   "cell_type": "markdown",
   "metadata": {},
   "source": [
    "---\n",
    "## Ejercicio 8.\n",
    "\n",
    "Crea la función `has_suffix(string, prefix)` que recibe dos cadenas y devuelve `True` la segunda es un prefijo de la primera.\n",
    "\n",
    "Es decir `has_suffix(\"hola mundo\", \"hola\")` devolvería `True`.\n",
    "\n",
    "Pista `Si` prefijo es más largo que `string`, ¿hace falta comparar algo?\n",
    "\n",
    "Crea la función `is_suffix`, que hace lo opuesto: comprueba si la segunda cadena es un sufijo de la primera.\n"
   ]
  },
  {
   "cell_type": "code",
   "execution_count": 18,
   "metadata": {},
   "outputs": [
    {
     "name": "stdout",
     "output_type": "stream",
     "text": [
      "True\n"
     ]
    }
   ],
   "source": [
    "def has_suffix(string, prefix):\n",
    "    return string.startswith(prefix)\n",
    "\n",
    "string = \"hola mundo\"\n",
    "prefix = \"hola\"\n",
    "print(has_suffix(string, prefix)) # imprime True  \n",
    "    "
   ]
  },
  {
   "cell_type": "code",
   "execution_count": 20,
   "metadata": {},
   "outputs": [
    {
     "name": "stdout",
     "output_type": "stream",
     "text": [
      "False\n"
     ]
    }
   ],
   "source": [
    "def is_suffix(string, suffix):\n",
    "    return string.endswith(suffix)\n",
    "string = \"hola mundo\"\n",
    "suffix = \"hola\"\n",
    "print(is_suffix(string, suffix))  # False\n"
   ]
  }
 ],
 "metadata": {
  "kernelspec": {
   "display_name": "Python 3",
   "language": "python",
   "name": "python3"
  },
  "language_info": {
   "codemirror_mode": {
    "name": "ipython",
    "version": 3
   },
   "file_extension": ".py",
   "mimetype": "text/x-python",
   "name": "python",
   "nbconvert_exporter": "python",
   "pygments_lexer": "ipython3",
   "version": "3.11.1"
  },
  "orig_nbformat": 4
 },
 "nbformat": 4,
 "nbformat_minor": 2
}
