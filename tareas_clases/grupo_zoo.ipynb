{
 "cells": [
  {
   "attachments": {},
   "cell_type": "markdown",
   "metadata": {},
   "source": [
    "# Ejercicio 3. Grupo en el zoo\n",
    "\n",
    "## Enunciado\n",
    "\n",
    "Un zoo fija el precio de la entrada según la edad del visitante, así:\n",
    "- los niños de 2 años o menos no pagan\n",
    "- los niños de 3 a 12 pagan 14€\n",
    "- A partir de 13 años se considera entrada de adulto por un valor de 23 €\n",
    "- Los jubilados, 65 o más años pagan 18 €\n",
    "\n",
    "Debes hacer un programa que pida las edades del grupo que va a visitar el zoo y devolver el precio del grupo y el detalle por edades.\n",
    "\n",
    "El programa devolverá el cálculo y el detalle cuando se no se introduzcan más edades, es decir se introduzca ''.\n",
    "\n",
    "Debes asegurarte de que la edad sea un número entero y positivo.\n",
    "\n",
    "## Ayuda a la implementación\n",
    "\n",
    "Puedes ayudarte de estructuras de datos (listas o tuplas) para almacenar las entradas y edades mientras se informan.\n"
   ]
  },
  {
   "cell_type": "code",
   "execution_count": 2,
   "metadata": {},
   "outputs": [
    {
     "name": "stdout",
     "output_type": "stream",
     "text": [
      "\n",
      "Detalle de entradas:\n",
      "\n",
      "Precio total del grupo: 0 €\n"
     ]
    }
   ],
   "source": [
    "def calcular_precio_entrada():\n",
    "    precios = {\n",
    "        'niño_2': 0,\n",
    "        'niño_3_12': 14,\n",
    "        'adulto': 23,\n",
    "        'jubilado': 18\n",
    "    }\n",
    "    \n",
    "    detalle_entradas = []\n",
    "    precio_total = 0\n",
    "\n",
    "    while True:\n",
    "        edad_str = input(\"Ingrese la edad (o presione Enter para finalizar): \")\n",
    "\n",
    "        if edad_str == '':\n",
    "            break\n",
    "\n",
    "        try:\n",
    "            edad = int(edad_str)\n",
    "\n",
    "            if edad < 0:\n",
    "                print(\"La edad debe ser un número entero y positivo.\")\n",
    "                continue\n",
    "\n",
    "            if edad <= 2:\n",
    "                detalle_entradas.append(f\"Niño de {edad} año(s): GRATIS\")\n",
    "                precio_total += precios['niño_2']\n",
    "            elif 3 <= edad <= 12:\n",
    "                detalle_entradas.append(f\"Niño de {edad} año(s): {precios['niño_3_12']} €\")\n",
    "                precio_total += precios['niño_3_12']\n",
    "            elif edad >= 65:\n",
    "                detalle_entradas.append(f\"Jubilado de {edad} año(s): {precios['jubilado']} €\")\n",
    "                precio_total += precios['jubilado']\n",
    "            else:\n",
    "                detalle_entradas.append(f\"Adulto de {edad} año(s): {precios['adulto']} €\")\n",
    "                precio_total += precios['adulto']\n",
    "        except ValueError:\n",
    "            print(\"La edad debe ser un número entero.\")\n",
    "\n",
    "    print(\"\\nDetalle de entradas:\")\n",
    "    for detalle in detalle_entradas:\n",
    "        print(detalle)\n",
    "\n",
    "    print(f\"\\nPrecio total del grupo: {precio_total} €\")\n",
    "\n",
    "\n",
    "# Ejecutar el programa\n",
    "calcular_precio_entrada()\n"
   ]
  },
  {
   "attachments": {},
   "cell_type": "markdown",
   "metadata": {},
   "source": [
    "En esta solución, se utiliza un diccionario llamado `precios` para almacenar los precios correspondientes a cada categoría de edad. Se define una lista llamada `detalle_entradas` para almacenar los detalles de las entradas ingresadas y un contador `precio_total` para calcular el precio total del grupo.\n",
    "\n",
    "Dentro del bucle `while True`, se solicita al usuario que ingrese la edad de cada persona del grupo. Si se presiona Enter sin ingresar ninguna edad, el bucle se interrumpe y se muestra el detalle de las entradas y el precio total.\n",
    "\n",
    "Dentro del bucle, se intenta convertir la entrada de edad a un número entero. Si ocurre algún error en la conversión, se muestra un mensaje de error y se solicita nuevamente la edad.\n",
    "\n",
    "Si la conversión es exitosa y la edad es un número entero positivo, se compara con las condiciones establecidas para determinar la categoría de edad y se agrega el detalle correspondiente a `detalle_entradas`. También se suma el precio correspondiente al `precio_total`.\n",
    "\n",
    "Finalmente, se imprime el detalle de las entradas y el precio total del grupo.\n",
    "\n",
    "Espero que esta solución sea de ayuda. Si tienes alguna otra pregunta, no dudes en hacerla."
   ]
  }
 ],
 "metadata": {
  "kernelspec": {
   "display_name": "Python 3",
   "language": "python",
   "name": "python3"
  },
  "language_info": {
   "codemirror_mode": {
    "name": "ipython",
    "version": 3
   },
   "file_extension": ".py",
   "mimetype": "text/x-python",
   "name": "python",
   "nbconvert_exporter": "python",
   "pygments_lexer": "ipython3",
   "version": "3.11.3"
  },
  "orig_nbformat": 4
 },
 "nbformat": 4,
 "nbformat_minor": 2
}
