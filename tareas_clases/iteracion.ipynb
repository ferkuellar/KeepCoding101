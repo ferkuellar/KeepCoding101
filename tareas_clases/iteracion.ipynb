{
 "cells": [
  {
   "attachments": {},
   "cell_type": "markdown",
   "metadata": {},
   "source": [
    "# Los tres elementos del código.\n",
    "\n",
    "Todo algoritmo (una tarea explicada de froma muy detallada) tiene tres elementos:\n",
    "    Succesión.\n",
    "    Selección.\n",
    "    Iteracion.\n",
    "\n",
    "Empecemos por los dos primeros.\n",
    "\n",
    "## Succesión.\n",
    "\n",
    "Todo algoritmo es una serie de pasos, que se llevan a cabo uno de tras de otro, en un orden determinado.. Una Succesión de pasos. Es algo tan obvio que no merece la pena explicarlo más, pero para evaluar nuestro codigo el ordenador necesita que le digamos que pasos tiene que hacer y en que orden.\n",
    "\n",
    "´(3 + 5) * 43´\n",
    "\n",
    "Una vez que haya evaluado `(3 + 5)` y `43` el ordenador tiene que saber que tiene que multiplicarlos. Si no le decimos que tiene que multiplicarlos, no lo hará.\n",
    "\n",
    "Esto ya lo sabemos hacer, pero es importante que lo tengamos en cuenta.\n",
    "\n",
    "# Selección.\n",
    "\n",
    "La selección es la capacidad de un programa de tomar decisiones. Es decir, de ejecutar un código u otro en función de una condición.\n",
    "\n",
    "A esto tambien lo sabemos hacer, pero es importante que lo tengamos en cuenta.\n",
    "\n",
    "# Iteración.\n",
    "\n",
    "La iteración es la capacidad de un programa de repetir un código un número determinado de veces. Es decir, de ejecutar un código u otro en función de una condición.\n",
    "\n",
    "Recordamos el ejemplo de Gregorio, la operacion que se llevava a cabo en cada planta (que incluia algun `if`) si tiene que repetir, ¿cuantas veces?.\n",
    "\n",
    "Esto ultimo lo podemos especificar de dos formas:\n",
    "\n",
    "### Un cierto numero de veces.\n",
    "\n",
    "Sabemos que le edificio tiene 16 plantas , podemos decirle a Geregorio que lo haga 16 veces. Eso si hay que especificarle que hay que ir cambiando de planta en planta.\n",
    "\n",
    "### Hasta que se cumpla una condición.\n",
    "\n",
    "Aquí no importa el numero de veces. Por Ejemplo, podriamos decirle que partiendo de la `ultima planta baje hasta la planta baja`. En este caso no importa el numero de veces, lo que importa es que se cumpla la condición de que se llegue a la planta baja, recoge la basura `hasta que llegues a la planta baja`.\n",
    "\n",
    "La clave esta en el `hasta`.\n",
    "\n",
    "Esta ultima es una forma algo mas complicada, pero mucho mas flexible.\n",
    "\n",
    "# Existen cuatro formas de iterar.\n",
    "\n",
    "Hay cuatro mecanismos para iterar en Python:\n",
    "\n",
    "    · while.\n",
    "    · for.\n",
    "    · funciones de alto nivel.\n",
    "    · la recursividad."
   ]
  }
 ],
 "metadata": {
  "kernelspec": {
   "display_name": "Python 3",
   "language": "python",
   "name": "python3"
  },
  "language_info": {
   "name": "python",
   "version": "3.11.3"
  },
  "orig_nbformat": 4
 },
 "nbformat": 4,
 "nbformat_minor": 2
}
