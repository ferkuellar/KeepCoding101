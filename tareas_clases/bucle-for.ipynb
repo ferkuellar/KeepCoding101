{
 "cells": [
  {
   "attachments": {},
   "cell_type": "markdown",
   "metadata": {},
   "source": [
    "# Los bucles for \n",
    "\n",
    "los bucles `for` sobre una secuancia, es una de las formas más simples de iterar sobre una secuencia en Python. Recordemos la informacion que tenemos que proporcionar para poder iterar sobre una secuencia:\n",
    "\n",
    "  1. por donde empiezo (inicio)\n",
    "  2. donde termino (fin)\n",
    "  3. como paso de un caso a otro (paso)\n",
    "  4. que hago en cada paso (cuerpo)\n",
    "\n",
    "Con el bucle `for`sobre una secuancia, practicamente solo tienes que ocupar de (4).\n",
    "\n",
    "## Sintaxis\n",
    "    for <variable> in <secuencia>:\n",
    "        # ámbito local donde es válida la asignacion <var>.\n",
    "        # en esa variable tienes el elemento de turno.\n",
    "        # haz lo que cooresponda en él.\n",
    "\n",
    "Veamos un ejemplo sencillo:\n"
   ]
  },
  {
   "cell_type": "code",
   "execution_count": 1,
   "metadata": {},
   "outputs": [
    {
     "name": "stdout",
     "output_type": "stream",
     "text": [
      "Hola\n",
      "Mundo\n",
      "Cruel\n"
     ]
    }
   ],
   "source": [
    "for element in ['Hola', 'Mundo', 'Cruel']:\n",
    "    print(element)"
   ]
  },
  {
   "attachments": {},
   "cell_type": "markdown",
   "metadata": {},
   "source": [
    "# Salida del bucle\n",
    "Puede salir un `for` antes de haber recorrido toda la secuencia. Para ello se usa la instrucción `break`. Veamos un ejemplo:\n"
   ]
  },
  {
   "cell_type": "code",
   "execution_count": 2,
   "metadata": {},
   "outputs": [
    {
     "name": "stdout",
     "output_type": "stream",
     "text": [
      "Hola\n",
      "Mundo\n"
     ]
    }
   ],
   "source": [
    "for elemen in ['Hola', 'Mundo', 'Cruel']:\n",
    "    print(elemen)\n",
    "    if elemen == 'Mundo':\n",
    "        break"
   ]
  }
 ],
 "metadata": {
  "kernelspec": {
   "display_name": "Python 3",
   "language": "python",
   "name": "python3"
  },
  "language_info": {
   "codemirror_mode": {
    "name": "ipython",
    "version": 3
   },
   "file_extension": ".py",
   "mimetype": "text/x-python",
   "name": "python",
   "nbconvert_exporter": "python",
   "pygments_lexer": "ipython3",
   "version": "3.11.3"
  },
  "orig_nbformat": 4
 },
 "nbformat": 4,
 "nbformat_minor": 2
}
