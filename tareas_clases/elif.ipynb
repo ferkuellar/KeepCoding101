{
 "cells": [
  {
   "attachments": {},
   "cell_type": "markdown",
   "metadata": {},
   "source": [
    "# Condiciones booleanas más complejas\n",
    "---"
   ]
  },
  {
   "attachments": {},
   "cell_type": "markdown",
   "metadata": {},
   "source": [
    "## Ejercicio 1\n",
    "\n",
    "En Renfe te encargan una función para determinar el precios de los billetes con la siguiente promoción:\n",
    "* El billete de ida y vuelta a cualquier ciudad de España cuesta €0.1 por Km recorrido en el primer tramo.\n",
    "* Si la distancia es superior a 600 Km, el precio por Km baja a €0.08.\n",
    "* Si la distancia es inferior a 100 km, el coste por km es de €0.17\n",
    "* Si la vuelta es 7 días o más después de la ida, el precio total tiene un descuento del 12%.\n",
    "\n",
    "Crea la función `ticket_cost` que recibe: distancia en km al destino final y número de dias entre la ida yla vuelta. Debe de devolver el coste total.\n",
    "\n",
    "* ¿Es una función total o parcial?\n",
    "\n",
    "La función `ticket_cost` es total ya que para cualquier entrada que reciba, devolverá un resultado determinado sin importar si cumple con alguna condición adicional."
   ]
  },
  {
   "cell_type": "code",
   "execution_count": 2,
   "metadata": {},
   "outputs": [
    {
     "name": "stdout",
     "output_type": "stream",
     "text": [
      "49.28\n"
     ]
    }
   ],
   "source": [
    "def ticket_cost(dist_km, days_between):\n",
    "    # Precio por km dependiendo de la distancia\n",
    "    if dist_km > 600:\n",
    "        price_per_km = 0.08\n",
    "    elif dist_km < 100:\n",
    "        price_per_km = 0.17\n",
    "    else:\n",
    "        price_per_km = 0.1\n",
    "    \n",
    "    # Precio sin descuento\n",
    "    price = dist_km * price_per_km\n",
    "    \n",
    "    # Descuento por compra anticipada\n",
    "    if days_between >= 7:\n",
    "        price *= 0.88\n",
    "    \n",
    "    return price\n",
    "\n",
    "print(ticket_cost(700, 7))\n"
   ]
  },
  {
   "attachments": {},
   "cell_type": "markdown",
   "metadata": {},
   "source": [
    "Esta función recibe la distancia en km al destino final y el número de días entre la ida y la vuelta, y devuelve el costo total del billete. \n",
    "\n",
    "Primero se determina el precio por km según la distancia, y luego se calcula el precio sin descuento. Finalmente, si se cumple la condición del descuento por compra anticipada, se aplica y se devuelve el costo final."
   ]
  }
 ],
 "metadata": {
  "kernelspec": {
   "display_name": "Python 3",
   "language": "python",
   "name": "python3"
  },
  "language_info": {
   "codemirror_mode": {
    "name": "ipython",
    "version": 3
   },
   "file_extension": ".py",
   "mimetype": "text/x-python",
   "name": "python",
   "nbconvert_exporter": "python",
   "pygments_lexer": "ipython3",
   "version": "3.11.1"
  },
  "orig_nbformat": 4
 },
 "nbformat": 4,
 "nbformat_minor": 2
}
