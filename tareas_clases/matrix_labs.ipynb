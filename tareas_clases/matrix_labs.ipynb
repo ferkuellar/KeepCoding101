{
 "cells": [
  {
   "attachments": {},
   "cell_type": "markdown",
   "metadata": {},
   "source": [
    "#### (0) make_list\n",
    "\n",
    "Crea la función `make_list(size:int, value: int | float, index: int, fill: int| float)`. Recibe tres parámetros:\n",
    "\n",
    "`size`: el tamaño o longitude de la lista que se va a crear.\n",
    "\n",
    "`value`: Un entero o float que se va a meter en una cierta posición de la lista.\n",
    "\n",
    "`index`: la posición donde se va a meter value.\n",
    "\n",
    "`fill`: El valor que vamos a meter en las demás posiciones.\n",
    "\n",
    "Por ejemplo,\n",
    "\n",
    "`make_list(4, 1, 2, 0) == [0,0,2,0]`\n",
    "\n",
    "Si `index` tienen un valor imposible, lanza una excepción `ValueError`.\n",
    "\n",
    "1.  Una función que crea un tipo (por ejemplo una lista, un lol, una matriz) se le llamam un constructor.\n",
    "2.  Añade la información de tipos a los parámetros y valor de retorno.\n"
   ]
  },
  {
   "cell_type": "code",
   "execution_count": 18,
   "metadata": {},
   "outputs": [],
   "source": [
    "from typing import List, Union\n",
    "\n",
    "def make_list(size: int, value: Union[int, float], index: int, fill: Union[int, float]) -> List[Union[int, float]]:\n",
    "    if index < 0 or index >= size:\n",
    "        raise ValueError(\"Invalid index\")\n",
    "    \n",
    "    lista = [fill] * size\n",
    "    lista[index] = value\n",
    "    \n",
    "    return lista\n"
   ]
  },
  {
   "attachments": {},
   "cell_type": "markdown",
   "metadata": {},
   "source": [
    "La función `make_list` recibe cuatro parámetros:\n",
    "\n",
    "`size` es un entero que representa el tamaño o longitud de la lista que se va a crear.\n",
    "\n",
    "`value` es un entero o flotante que se va a insertar en una cierta posición de la lista.\n",
    "\n",
    "`index` es la posición donde se va a insertar el valor value.\n",
    "\n",
    "`fill` es el valor que se va a insertar en las demás posiciones de la lista.\n",
    "\n",
    "La función devuelve una lista de enteros o flotantes `(List[Union[int, float]])`.\n",
    "\n",
    "En el código, se comprueba si el valor de `index` es válido. Si `index` es menor que 0 o mayor o igual que `size`, se lanza una excepción `ValueError`.\n",
    "\n",
    "Luego, se crea una lista llamada `lista` con `size` elementos, todos inicializados con el valor `fill`. A continuación, se asigna el valor `value` en la posición `index` de la lista.\n",
    "\n",
    "Finalmente, se retorna la lista resultante.\n",
    "\n",
    "Es importante tener en cuenta que el tipo de la lista de salida permite tanto enteros como flotantes, ya que `value` y `fill` pueden ser de cualquiera de estos tipos."
   ]
  },
  {
   "attachments": {},
   "cell_type": "markdown",
   "metadata": {},
   "source": [
    "#### (1) is_matrix\n",
    "\n",
    "Crea el predicado `si_matrix` que devuelve true si un lol es una matriz. Repasa los requisitos para que un lol sea una matriz"
   ]
  },
  {
   "cell_type": "code",
   "execution_count": 19,
   "metadata": {},
   "outputs": [],
   "source": [
    "\n",
    "def is_matrix(lol: List[List[int]]) -> bool:\n",
    "    if not lol:\n",
    "        return False\n",
    "\n",
    "    rows = len(lol)\n",
    "    cols = len(lol[0])\n",
    "\n",
    "    for row in lol:\n",
    "        if len(row) != cols:\n",
    "            return False\n",
    "\n",
    "    return True\n"
   ]
  },
  {
   "attachments": {},
   "cell_type": "markdown",
   "metadata": {},
   "source": [
    "La función `is_matrix` recibe un argumento `lol` que representa un \"lol\" (list of lists). Devuelve `True` si `lol` cumple con los requisitos para ser considerada una matriz y `False` en caso contrario.\n",
    "\n",
    "Primero, se verifica si `lol` está vacía. Si es así, se devuelve `False` ya que no cumple con el requisito de tener al menos una sublista.\n",
    "\n",
    "Luego, se obtiene la longitud de la primera sublista y se almacena en la variable `cols`. Esto servirá como referencia para verificar que todas las sublistas tengan la misma longitud.\n",
    "\n",
    "Después, se recorre cada sublista en `lol` y se compara su longitud con `cols`. Si alguna sublista tiene una longitud diferente, se devuelve `False`.\n",
    "\n",
    "Si se han verificado todas las sublistas sin encontrar discrepancias en la longitud, se devuelve `True`, indicando que `lol` es una matriz válida.\n",
    "\n",
    "Es importante destacar que esta implementación asume que todas las sublistas contienen elementos del tipo entero. Si deseas que sea compatible con otros tipos de datos, puedes modificar el tipo de anotación y adaptar la lógica de acuerdo a tus necesidades."
   ]
  },
  {
   "attachments": {},
   "cell_type": "markdown",
   "metadata": {},
   "source": [
    "#### (2) num_of_columns\n",
    "\n",
    "Crea una función que recibe una matrix y devuelve el número de *columnas*."
   ]
  },
  {
   "cell_type": "code",
   "execution_count": 20,
   "metadata": {},
   "outputs": [],
   "source": [
    "\n",
    "def num_of_columns(matrix: List[List[int]]) -> int:\n",
    "    if not matrix:\n",
    "        return 0\n",
    "\n",
    "    return len(matrix[0])\n"
   ]
  },
  {
   "attachments": {},
   "cell_type": "markdown",
   "metadata": {},
   "source": [
    "La función `num_of_columns` recibe una matriz representada como una lista de listas de enteros `(List[List[int]])`. Devuelve el número de columnas de la matriz.\n",
    "\n",
    "Primero, se verifica si la matriz está vacía. Si es así, no hay columnas y se devuelve 0.\n",
    "\n",
    "Luego, se obtiene la longitud de la primera sublista de la matriz, que representa el número de columnas. Esto se hace con `len(matrix[0])`.\n",
    "\n",
    "Finalmente, se retorna el número de columnas.\n",
    "\n",
    "Es importante destacar que esta implementación asume que todas las sublistas de la matriz tienen la misma longitud. Si la matriz no cumple con esta condición, el resultado puede ser incorrecto o puede ocurrir un error durante la ejecución. Por lo tanto, se recomienda asegurarse de que la matriz sea válida antes de llamar a esta función."
   ]
  },
  {
   "attachments": {},
   "cell_type": "markdown",
   "metadata": {},
   "source": [
    "#### (3) num_of_rows\n",
    "\n",
    "Crea una función que recibe una matrix y devuelve el número de filas."
   ]
  },
  {
   "cell_type": "code",
   "execution_count": 21,
   "metadata": {},
   "outputs": [],
   "source": [
    "\n",
    "\n",
    "def num_of_rows(matrix: List[List[int]]) -> int:\n",
    "    return len(matrix)\n"
   ]
  },
  {
   "attachments": {},
   "cell_type": "markdown",
   "metadata": {},
   "source": [
    "La función `num_of_rows` recibe una matriz representada como una lista de listas de enteros `(List[List[int]])`. Devuelve el número de filas de la matriz utilizando la función len, que devuelve la longitud de la lista `matrix`.\n",
    "\n",
    "Simplemente se retorna el resultado de `len(matrix)`, que es el número de elementos (es decir, el número de filas) en la lista `matrix`.\n",
    "\n",
    "Esta implementación asume que la matriz es válida y que todas las sublistas representan filas de la matriz. Si la matriz no cumple con estas condiciones, el resultado puede ser incorrecto. Por lo tanto, se recomienda asegurarse de que la matriz sea válida antes de llamar a esta función."
   ]
  },
  {
   "attachments": {},
   "cell_type": "markdown",
   "metadata": {},
   "source": [
    "### (4) is_square_matrix\n",
    "\n",
    "Crea el predicado que recibe un lol y devuelve si es una matriz cuadrada. ¿Puedes reaprovechar algunas de las funciones que ya has creado?"
   ]
  },
  {
   "cell_type": "code",
   "execution_count": 22,
   "metadata": {},
   "outputs": [],
   "source": [
    "def is_square_matrix(matrix: List[List[int]]) -> bool:\n",
    "    rows = num_of_rows(matrix)\n",
    "    columns = num_of_columns(matrix)\n",
    "\n",
    "    return rows == columns"
   ]
  },
  {
   "attachments": {},
   "cell_type": "markdown",
   "metadata": {},
   "source": [
    "El predicado `is_square_matrix recibe` una matriz representada como una lista de listas de enteros `(List[List[int]])`. Utiliza las funciones `num_of_rows` y `num_of_columns` para obtener el número de filas y columnas de la matriz respectivamente.\n",
    "\n",
    "Luego, se compara el número de filas con el número de columnas. Si son iguales, significa que la matriz es cuadrada y se devuelve `True`. De lo contrario, se devuelve `False`.\n",
    "\n",
    "Al aprovechar las funciones `num_of_rows` y `num_of_columns`, evitamos duplicar código y reutilizamos la lógica ya implementada para obtener el número de filas y columnas de la matriz.\n",
    "\n",
    "Es importante tener en cuenta que esta implementación asume que la matriz es válida y que todas las sublistas tienen la misma longitud. Si la matriz no cumple con estas condiciones, el resultado puede ser incorrecto. Por lo tanto, se recomienda validar la matriz antes de llamar a este predicado."
   ]
  },
  {
   "attachments": {},
   "cell_type": "markdown",
   "metadata": {},
   "source": [
    "#### (5) make_zero_matrix\n",
    "\n",
    "Una matriz-cero es aquella cuyos elementos son todos `0`. Crea la función que recibe 2 parámetros:\n",
    "\n",
    "* número de columnas\n",
    "* número de filas\n",
    "\n",
    "Devuelve la matriz cero del tamaño que se ha pedido"
   ]
  },
  {
   "cell_type": "code",
   "execution_count": 23,
   "metadata": {},
   "outputs": [],
   "source": [
    "def make_zero_matrix(num_columns: int, num_rows: int) -> List[List[int]]:\n",
    "    matrix = [[0] * num_columns for _ in range(num_rows)]\n",
    "    return matrix\n"
   ]
  },
  {
   "cell_type": "code",
   "execution_count": 36,
   "metadata": {},
   "outputs": [
    {
     "name": "stdout",
     "output_type": "stream",
     "text": [
      "[[0, 0, 0], [0, 0, 0]]\n"
     ]
    }
   ],
   "source": [
    "matrix = make_zero_matrix(3, 2)\n",
    "print(matrix)\n"
   ]
  },
  {
   "attachments": {},
   "cell_type": "markdown",
   "metadata": {},
   "source": [
    "La función `make_zero_matrix` recibe dos parámetros: `num_columns`, que representa el número de columnas, y `num_rows`, que representa el número de filas. La función devuelve una matriz cero del tamaño especificado, representada como una lista de listas de enteros `(List[List[int]])`.\n",
    "\n",
    "En el código, se utiliza una comprensión de lista para crear la matriz cero. Se crea una lista de `num_columns` elementos, todos inicializados con el valor `0`. Luego, se crea una lista de `num_rows` elementos utilizando esta lista de columnas como base.\n",
    "\n",
    "El resultado es una matriz cero con `num_rows` filas y `num_columns` columnas, donde todos los elementos son `0`.\n",
    "\n",
    "Es importante mencionar que esta implementación asume que los valores de `num_columns` y `num_rows` son números enteros positivos. Si se proporcionan valores no válidos, como números negativos o cero, el resultado puede ser inesperado o incorrecto. Por lo tanto, se recomienda validar los argumentos antes de llamar a esta función."
   ]
  },
  {
   "attachments": {},
   "cell_type": "markdown",
   "metadata": {},
   "source": [
    "#### (6) make_identity_matrix\n",
    "\n",
    "Una matriz identidad es aquella cuyos elementos son todos `1`. Crea la función que recibe 2 parámetros:\n",
    "\n",
    "* número de columnas\n",
    "* número de filas\n",
    "\n",
    "Devuelve la matriz identidad del tamaño que se ha pedido"
   ]
  },
  {
   "cell_type": "code",
   "execution_count": 24,
   "metadata": {},
   "outputs": [],
   "source": [
    "def make_identity_matrix(num_columns: int, num_rows: int) -> List[List[int]]:\n",
    "    matrix = [[0] * num_columns for _ in range(num_rows)]\n",
    "\n",
    "    for i in range(min(num_columns, num_rows)):\n",
    "        matrix[i][i] = 1\n",
    "\n",
    "    return matrix"
   ]
  },
  {
   "cell_type": "code",
   "execution_count": 35,
   "metadata": {},
   "outputs": [
    {
     "name": "stdout",
     "output_type": "stream",
     "text": [
      "[[1, 0, 0], [0, 1, 0], [0, 0, 1]]\n"
     ]
    }
   ],
   "source": [
    "matrix = make_identity_matrix(3, 3)\n",
    "print(matrix)\n"
   ]
  },
  {
   "attachments": {},
   "cell_type": "markdown",
   "metadata": {},
   "source": [
    "La función `make_identity_matrix` recibe dos parámetros: `num_columns`, que representa el número de columnas, y `num_rows`, que representa el número de filas. La función devuelve una matriz identidad del tamaño especificado, representada como una lista de listas de enteros `(List[List[int]])`.\n",
    "\n",
    "En el código, primero se crea una matriz cero utilizando una comprensión de lista, similar a la función `make_zero_matrix`. Luego, se recorre desde la posición `(0, 0)` hasta la posición `(min(num_columns, num_rows) - 1, min(num_columns, num_rows) - 1) (es decir, la diagonal principal de la matriz)`.\n",
    "\n",
    "En cada iteración, se asigna el valor `1` en la posición correspondiente de la diagonal principal de la matriz. El resto de los elementos se mantienen en `0`, ya que se inicializaron así al crear la matriz.\n",
    "\n",
    "El resultado es una matriz identidad con `num_rows` filas y `num_columns columnas`, donde los elementos de la diagonal principal son 1 y el resto de los elementos son `0`."
   ]
  },
  {
   "attachments": {},
   "cell_type": "markdown",
   "metadata": {},
   "source": [
    "#### (7) make_constant_matrix\n",
    "\n",
    "Las dos funciones anteriores son demasiado parecidas. Crea la función `make_constant_matrix` que recibe 3 parámetros:\n",
    "\n",
    "* número de columnas\n",
    "* número de filas\n",
    "* valor de todos los elementos\n",
    "\n",
    "Además, re-escribe `make-zero-matriz` y `make-identity-matrix` en base a la que acabase de crear.\n"
   ]
  },
  {
   "attachments": {},
   "cell_type": "markdown",
   "metadata": {},
   "source": [
    "La función `make_constant_matrix` es una función constructora, ya que crea y devuelve un objeto de tipo matriz. Además, toma ciertos parámetros para configurar el objeto, como el número de columnas, el número de filas y el valor de todos los elementos.\n",
    "\n",
    "La función `make_zero_matrix` y la función `make_identity_matrix` son funciones constructoras especializadas, ya que utilizan la función make_constant_matrix para crear matrices específicas (matriz cero y matriz identidad) estableciendo el valor de todos los elementos según el caso.\n"
   ]
  },
  {
   "cell_type": "code",
   "execution_count": 25,
   "metadata": {},
   "outputs": [],
   "source": [
    "def make_constant_matrix(num_columns: int, num_rows: int, value: int) -> List[List[int]]:\n",
    "    matrix = [[value] * num_columns for _ in range(num_rows)]\n",
    "    return matrix\n",
    "\n",
    "def make_zero_matrix(num_columns: int, num_rows: int) -> List[List[int]]:\n",
    "    return make_constant_matrix(num_columns, num_rows, 0)\n",
    "\n",
    "def make_identity_matrix(num_columns: int, num_rows: int) -> List[List[int]]:\n",
    "    matrix = make_zero_matrix(num_columns, num_rows)\n",
    "\n",
    "    for i in range(min(num_columns, num_rows)):\n",
    "        matrix[i][i] = 1\n",
    "\n",
    "    return matrix"
   ]
  },
  {
   "attachments": {},
   "cell_type": "markdown",
   "metadata": {},
   "source": [
    "La función `make_constant_matrix` recibe tres parámetros: `num_columns (número de columnas)`, `num_rows` (número de filas) y `value` (valor constante). La función crea una matriz con `num_columns` columnas y `num_rows` filas, donde todos los elementos tienen el valor `value`.\n",
    "\n",
    "La función `make_zero_matrix` simplemente llama a `make_constant_matrix` con el valor `0` como argumento para obtener una matriz cero.\n",
    "\n",
    "La función `make_identity_matrix` utiliza la función `make_zero_matrix` para crear una matriz cero, y luego modifica los elementos de la diagonal principal para establecerlos en `1`, obteniendo así una matriz identidad."
   ]
  },
  {
   "attachments": {},
   "cell_type": "markdown",
   "metadata": {},
   "source": [
    "1. ¿Qué tipo de función son?\n",
    "\n",
    "Estas funciones son conocidas como constructores de matrices, ya que crean matrices con características específicas a partir de los parámetros proporcionados.\n",
    "\n",
    "Es importante tener en cuenta que estas implementaciones asumen que los valores de num_columns y num_rows son números enteros positivos, y que value puede ser cualquier valor válido del tipo entero. Se recomienda validar los argumentos antes de llamar a estas funciones."
   ]
  },
  {
   "attachments": {},
   "cell_type": "markdown",
   "metadata": {},
   "source": [
    "#### (8) Información de tipo de una matriz\n",
    "\n",
    "La información de tipo de un lol de `int|float`, sería la siguiente:\n",
    "`list[list[int|float]]`.\n",
    "\n",
    "¿Cual sería el tipo de una matriz?\n",
    "\n",
    "**Explicación**\n",
    "\n",
    "Podemos indicar que se trata de una lista de listas de `int|float`, pero cómo indicamos que todas las listas (columnas) han de tener la misma longitud?\n",
    "\n",
    "Sólo con los tipos no podemos. Nos falta un `predicado` que indique la limitación del tamaño de las columnas.\n",
    "\n",
    "> Ni en Python, ni en ningún lenguaje normal se puede representar eso con los tipos.\n",
    "\n",
    "Un tipo compuesto por un *tipo normal* y uin predicado, se llama un **Tipo Dependiente** y es algo que muy pocos lenguajes tienen.\n",
    "\n",
    "UN ejemplo de lenguaje con tipos dependientes es [Idris](https://www.idris-lang.org/) pero es un lenguaje académico, usado para la investigación en lenguajes de programación.\n",
    "\n",
    "Esto nos permitiría representar con l ainfromación de tipos, cosas cómo:\n",
    "\n",
    "* listas que siempre están ordenadas\n",
    "* cadenas que siempre están en mayúsculas\n",
    "* listas de números que son siemrpre positivos\n",
    "* matrices que jamás tienen un `None`\n",
    "* etc...\n",
    "\n",
    "Es posible que en algunos años algunos lenguajes de uso común, empiecen a tener **Tipos Dependientes**. De momento, toca esperar.\n"
   ]
  },
  {
   "attachments": {},
   "cell_type": "markdown",
   "metadata": {},
   "source": [
    "La información de tipo de una matriz, como se mencionó anteriormente, sería `list[list[int|float]]`. Indica que se trata de una lista de listas donde los elementos pueden ser enteros o números de punto flotante.\n",
    "\n",
    "Sin embargo, en Python y en la mayoría de los lenguajes de programación convencionales, no se puede expresar directamente en el tipo la restricción de que todas las listas (columnas) de la matriz deben tener la misma longitud. No hay un mecanismo de tipo que permita especificar esta limitación.\n",
    "\n",
    "Los tipos en Python y otros lenguajes de programación se utilizan principalmente para indicar el tipo de los elementos individuales dentro de una estructura de datos, como una lista o una matriz. No proporcionan un mecanismo para especificar relaciones o restricciones entre los elementos de una estructura.\n",
    "\n",
    "Para garantizar que todas las sublistas de una matriz tengan la misma longitud, es necesario realizar una validación manual en el código o utilizar alguna biblioteca o clase especializada que gestione matrices y proporcione esta funcionalidad.\n",
    "\n",
    "En resumen, aunque podemos representar la información de tipo de una matriz como `list[list[int|float]]`, la restricción de tener sublistas de la misma longitud no puede expresarse directamente en el sistema de tipos de Python u otros lenguajes convencionales. Los tipos dependientes son una característica más avanzada que permitiría especificar restricciones adicionales sobre las estructuras de datos, pero aún no están ampliamente disponibles en los lenguajes de programación de uso común."
   ]
  },
  {
   "attachments": {},
   "cell_type": "markdown",
   "metadata": {},
   "source": [
    "#### (9) make_diagonal_matrix\n",
    "\n",
    "Una matriz diagonal es una *matriz cuadrada* que sólo tienen valores no nulos en la diagonal principal. Todos los demás tienen que ser ceros.\n",
    "\n",
    "Por ejemplo:\n",
    "\n",
    "\\begin{bmatrix}\n",
    "1 & 0 & 0 \\\\\n",
    "0 & 5 & 0 \\\\\n",
    "0 & 0 & -5\n",
    "\\end{bmatrix}\n",
    "\n",
    "Crea la función `make_diagonal_matrix` que recibe 2 parámetros:\n",
    "\n",
    "1. Tamaño\n",
    "2. Lista con los valores que irán en la diagonal principal.\n",
    "   \n",
    "**Ayuda**\n",
    "\n",
    "1. ¿Qué tamaño debe de tener la lista de la diagonal principal? Es decir, si tienes una matriz cuadrada de tamaño 6, cual será la longitud de la diagonal principal?\n",
    "2. Si la lista de valores de la diagonal principal está fuera del rango adecuado, lanza una excepción. Averigua en la documentación de Python cual es la más adecuada para dicho error.\n",
    "1. ¿Cómo dividirías el problema? ¿Podría romperlo en crear cada una de las listas que represnetan las columnas y luego combinar esa en una matriz?\n",
    "2. ¿Qué parámtros debería de recibir la función para crear las columnas? ¿Crees que podrías aprovechar alguna función que ya hasyas creado?\n",
    "\n",
    "DIVIDE & VENCERÁS\n",
    "LOS PROBLEMAS SE ROMPEN, LAS SOLUCIONES SE COMBINAN\n",
    "\n",
    "\n"
   ]
  },
  {
   "cell_type": "code",
   "execution_count": 26,
   "metadata": {},
   "outputs": [],
   "source": [
    "def make_diagonal_matrix(size: int, diagonal_values: List[int]) -> List[List[int]]:\n",
    "    if len(diagonal_values) != size:\n",
    "        raise ValueError(\"The length of diagonal_values must be equal to size\")\n",
    "\n",
    "    matrix = [[0] * size for _ in range(size)]\n",
    "\n",
    "    for i in range(size):\n",
    "        matrix[i][i] = diagonal_values[i]\n",
    "\n",
    "    return matrix"
   ]
  },
  {
   "cell_type": "code",
   "execution_count": 34,
   "metadata": {},
   "outputs": [
    {
     "name": "stdout",
     "output_type": "stream",
     "text": [
      "[[1, 0, 0], [0, 5, 0], [0, 0, -5]]\n"
     ]
    }
   ],
   "source": [
    "matrix = make_diagonal_matrix(3, [1, 5, -5])\n",
    "print(matrix)\n"
   ]
  },
  {
   "attachments": {},
   "cell_type": "markdown",
   "metadata": {},
   "source": [
    "La función `make_diagonal_matrix` recibe dos parámetros: `size`, que representa el tamaño de la matriz cuadrada, y `diagonal_values`, que es una lista con los valores que se colocarán en la diagonal principal de la matriz. La función devuelve la matriz diagonal correspondiente.\n",
    "\n",
    "En el código, se verifica si la longitud de diagonal_values es igual a `size`. Si no es así, se lanza una excepción `ValueError` para indicar que los valores de la diagonal principal no son válidos.\n",
    "\n",
    "Luego, se crea una matriz cuadrada de tamaño size inicializada con ceros utilizando una comprensión de lista. Después, se recorre la diagonal principal de la matriz (posiciones `[i][i]`) y se asignan los valores de `diagonal_values` en esas posiciones.\n",
    "\n",
    "El resultado es una matriz diagonal cuadrada de tamaño size, donde los valores proporcionados en `diagonal_values` se encuentran en la diagonal principal y los demás elementos son ceros.\n",
    "\n",
    "Es importante mencionar que esta implementación asume que los valores proporcionados en `diagonal_values` tienen la longitud correcta para formar una matriz diagonal cuadrada. Si no se cumple esta condición, se lanzará una excepción."
   ]
  },
  {
   "attachments": {},
   "cell_type": "markdown",
   "metadata": {},
   "source": [
    "#### (10) make_scalar_matrix\n",
    "\n",
    "Una matriz escalar es parecida a la matriz diagonal, con una limitación extra: todos los elementos de la diagonal principal han de ser iguales:\n",
    "\n",
    "\n",
    "\\begin{bmatrix}\n",
    "10 & 0 & 0 \\\\\n",
    "0 & 10 & 0 \\\\\n",
    "0 & 0 & 10\n",
    "\\end{bmatrix}\n",
    "\n",
    "\n",
    "Crea la función `make_scalar_matrix` que recibe dos parámetros:\n",
    "\n",
    "1. El tamaño\n",
    "2. El valor que irá en la diagonal principal\n",
    "\n",
    "¿Crees que podrías reaprovechar algo de lo que ya tienes? \n",
    "\n",
    "DRY\n"
   ]
  },
  {
   "cell_type": "code",
   "execution_count": 27,
   "metadata": {},
   "outputs": [],
   "source": [
    "def make_scalar_matrix(size: int, value: int) -> List[List[int]]:\n",
    "    diagonal_values = [value] * size\n",
    "    return make_diagonal_matrix(size, diagonal_values)"
   ]
  },
  {
   "cell_type": "code",
   "execution_count": 33,
   "metadata": {},
   "outputs": [
    {
     "name": "stdout",
     "output_type": "stream",
     "text": [
      "[[10, 0, 0, 0], [0, 10, 0, 0], [0, 0, 10, 0], [0, 0, 0, 10]]\n"
     ]
    }
   ],
   "source": [
    "matrix = make_scalar_matrix(4, 10)\n",
    "print(matrix)\n"
   ]
  },
  {
   "attachments": {},
   "cell_type": "markdown",
   "metadata": {},
   "source": [
    "La función `make_scalar_matrix` recibe dos parámetros: `size`, que representa el tamaño de la matriz cuadrada, y `value`, que es el valor que se colocará en la diagonal principal de la matriz.\n",
    "\n",
    "En la implementación, creamos una lista `diagonal_values` que contiene size repeticiones del valor `value`. Luego, llamamos a la función `make_diagonal_matrix` utilizando `size` como el tamaño y `diagonal_values` como los valores de la diagonal principal.\n",
    "\n",
    "La función `make_diagonal_matrix` ya se encarga de validar la longitud de `diagonal_values` y construir correctamente la matriz diagonal. Por lo tanto, al reutilizar esa función, nos aseguramos de que se cumpla la restricción adicional de que todos los elementos de la diagonal principal deben ser iguales.\n",
    "\n",
    "De esta manera, evitamos la duplicación de código y seguimos el principio `DRY (Don't Repeat Yourself)` al reutilizar la funcionalidad existente en `make_diagonal_matrix` para crear la matriz escalar."
   ]
  },
  {
   "attachments": {},
   "cell_type": "markdown",
   "metadata": {},
   "source": [
    "#### (11) scalar_product\n",
    "\n",
    "Se llama *producto escalar* cuando multiplicas un número por una matriz (cuadrada o no).\n",
    "\n",
    "El procedimiento es multiplicar cada uno de los elementos de la matriz por el número.\n",
    "\n",
    "Crea la función correspondiente. Si recibe suna matriz nula (`[]`), devuelve la `[]`.\n",
    "\n"
   ]
  },
  {
   "cell_type": "code",
   "execution_count": 28,
   "metadata": {},
   "outputs": [],
   "source": [
    "def scalar_product(matrix: List[List[int]], scalar: int) -> List[List[int]]:\n",
    "    if not matrix:\n",
    "        return []\n",
    "    \n",
    "    result = []\n",
    "    for row in matrix:\n",
    "        product_row = [element * scalar for element in row]\n",
    "        result.append(product_row)\n",
    "    \n",
    "    return result"
   ]
  },
  {
   "cell_type": "code",
   "execution_count": 31,
   "metadata": {},
   "outputs": [
    {
     "name": "stdout",
     "output_type": "stream",
     "text": [
      "[[2, 4, 6], [8, 10, 12], [14, 16, 18]]\n"
     ]
    }
   ],
   "source": [
    "matrix = [[1, 2, 3], [4, 5, 6], [7, 8, 9]]\n",
    "scalar = 2\n",
    "\n",
    "result = scalar_product(matrix, scalar)\n",
    "print(result)"
   ]
  },
  {
   "attachments": {},
   "cell_type": "markdown",
   "metadata": {},
   "source": [
    "Si la matriz de entrada es una lista vacía, como en el siguiente ejemplo:"
   ]
  },
  {
   "cell_type": "code",
   "execution_count": 32,
   "metadata": {},
   "outputs": [
    {
     "name": "stdout",
     "output_type": "stream",
     "text": [
      "[]\n"
     ]
    }
   ],
   "source": [
    "matrix = []\n",
    "\n",
    "result = scalar_product(matrix, scalar)\n",
    "print(result)"
   ]
  },
  {
   "attachments": {},
   "cell_type": "markdown",
   "metadata": {},
   "source": [
    "La función `scalar_product` recibe dos parámetros: `matrix`, que es la matriz a la cual se le aplicará el producto escalar, y `scalar`, que es el número por el cual se multiplicarán los elementos de la matriz.\n",
    "\n",
    "En la implementación, se verifica si la matriz es nula, es decir, una lista vacía. En ese caso, se devuelve una matriz vacía como resultado.\n",
    "\n",
    "Luego, se itera sobre cada fila de la matriz. Para cada elemento de la fila, se multiplica por el número `scalar` utilizando una comprensión de lista, y se guarda el resultado en una nueva lista `product_row`. Esta lista representa la fila resultante después de aplicar el producto escalar.\n",
    "\n",
    "Finalmente, se agrega la fila resultante a la matriz de resultados result. Después de recorrer todas las filas, se devuelve la matriz resultante."
   ]
  },
  {
   "attachments": {},
   "cell_type": "markdown",
   "metadata": {},
   "source": [
    "#### (12) transpose\n",
    "\n",
    "Una operación muy común con matrices se llama transposición. Consiste en cambiar filas por columnas. Veamos un ejemplo:\n",
    "\n",
    "Una matriz escalar es parecida a la matriz diagonal, con una limitación extra: todos los elementos de la diagonal principal han de ser iguales:\n",
    "\n",
    "Matriz original:\n",
    "\n",
    "\\begin{bmatrix}\n",
    "0 & 2 & 6 \\\\\n",
    "1 & 3 & 7 \\\\\n",
    "\\end{bmatrix}\n",
    "\n",
    "Matriz transpuesta:\n",
    "\n",
    "\\begin{bmatrix}\n",
    "0 & 1 \\\\\n",
    "2 & 3 \\\\\n",
    "6 & 7\n",
    "\\end{bmatrix}\n",
    "\n",
    "**Lo que antes eran filas ahora son columnas**\n",
    "\n",
    "Esta e suna operación que se usa mucho en efectos gráficos, 3D, tratamiento de datos y procesamiento de imágnes, además de en IA y Deep Learning.\n",
    "\n",
    "\n",
    "\n",
    "1. Crea la función `transpose` que recibe una matriz (no tiene por qué ser cuadrada) y devuelve su transpuesta.\n",
    "\n",
    "\n",
    "**Ayuda**\n",
    "\n",
    "Parece chungo. El *Divide & Vencerás*, no parece que ayude mucho aquí, porque lo natural sería hacerlo por columnas, pero en cada paso hay que usar datos de todas las columnas. Parece que pinchamos en hueso. \n",
    "\n",
    "Cuando *Divide y Vencerás* falla, tiramos de su primo hermano: *Transforma y Vencerás*. Vamos a transformar el problema de algo que no sabemos resolver (*cambiar filas por columnas*) a otro que podamos meter mano.\n",
    "\n",
    "\n",
    "\n",
    "Para ello, vamos a mirar de nuevo las dos matrices (la original y la transpuesta) con otros ojos e intentar [\"pensar diferente\"](https://www.youtube.com/watch?v=nmginVTDYgc)\n",
    "\n",
    "\n",
    "1. La *primera* columna de la transpuesta, está compuesta por los *primeros* elementos de las columnas de la original.\n",
    "2. La *segunda* columna de la transpuesta, está compuesta por los *segundos* elementos de las columnas de la original.\n",
    "3. y así sucesivamente\n",
    "\n",
    "![](smart_guy.jpg)\n",
    "\n",
    "Ahora lo tengo. Viéndolo de esta nueva froma, ya puedo aplicar Divide & Vencerás:\n",
    "\n",
    "1. Cada nueva columna es una lista que se crea a partir la matriz original, extrayendo los elementos del índice correspondiente: primero el 0, luego el 1, luego el 2, etc...\n",
    "2. Juraría que tengo una función que hace precisamente eso. Se llamaba `get_nths`. DRY\n",
    "\n",
    "**Resumen**\n",
    "\n",
    "1. Intentamos aplicar *Divide & Vencerás*, y nos fue como el 🍑\n",
    "2. Aplicamos *Transforma & Vencerás*, rompimos la resistencia del enemigo,\n",
    "   1. Le metimos un *Divide & Vencerás* por donde no llega el sol\n",
    "   2. Aplicamos un DRY para no repetir código\n",
    "   3. Combinamos las soluciones parciales\n",
    "4. Salimos victoriosos cual programador con pelo en el pecho, auténticos Giga Chads del Código.\n",
    "\n",
    "![](giga_chad.jpeg)\n",
    "\n",
    "Con un par, sí señor.\n",
    "\n"
   ]
  },
  {
   "cell_type": "code",
   "execution_count": 29,
   "metadata": {},
   "outputs": [],
   "source": [
    "def transpose(matrix: List[List[int]]) -> List[List[int]]:\n",
    "    if not matrix:\n",
    "        return []\n",
    "    \n",
    "    num_rows = len(matrix)\n",
    "    num_columns = len(matrix[0])\n",
    "    \n",
    "    transposed = []\n",
    "    for j in range(num_columns):\n",
    "        column = get_nth(matrix, j)\n",
    "        transposed.append(column)\n",
    "    \n",
    "    return transposed\n",
    "\n",
    "def get_nth(matrix: List[List[int]], index: int) -> List[int]:\n",
    "    return [row[index] for row in matrix]"
   ]
  },
  {
   "cell_type": "code",
   "execution_count": 30,
   "metadata": {},
   "outputs": [
    {
     "name": "stdout",
     "output_type": "stream",
     "text": [
      "[[0, 1], [2, 3], [6, 7]]\n"
     ]
    }
   ],
   "source": [
    "matrix = [[0, 2, 6], [1, 3, 7]]\n",
    "transposed = transpose(matrix)\n",
    "print(transposed)"
   ]
  },
  {
   "attachments": {},
   "cell_type": "markdown",
   "metadata": {},
   "source": [
    "La función `transpose` recibe una matriz `matrix` y devuelve su transpuesta.\n",
    "\n",
    "En primer lugar, se verifica si la matriz es una lista vacía. En ese caso, se devuelve una matriz vacía como resultado.\n",
    "\n",
    "Luego, se obtiene el número de filas y columnas de la matriz utilizando las funciones `len`. Esto nos permite determinar el tamaño de la matriz transpuesta.\n",
    "\n",
    "A continuación, se itera sobre el rango de valores de las columnas. En cada iteración, se utiliza la función `get_nth` para obtener la columna correspondiente a ese índice. La función `get_nth` recibe la matriz y el índice de la columna, y devuelve una lista que representa esa columna.\n",
    "\n",
    "Finalmente, se van agregando las columnas a la matriz transpuesta en el orden correcto.\n",
    "\n",
    "La función `get_nth` toma la matriz y un índice, y utiliza una comprensión de lista para obtener los elementos de ese índice en cada fila. Devuelve una lista que representa la columna correspondiente."
   ]
  },
  {
   "attachments": {},
   "cell_type": "markdown",
   "metadata": {},
   "source": [
    "#### (13) print_matrix\n",
    "\n",
    "Vamos a hacer algo muy sencillo, que tal vez tendríamos que haber hecho antes: una función que imprime una matriz.\n",
    "\n",
    "Si recibes esta matriz,\n",
    "\n",
    "\\begin{bmatrix}\n",
    "0 & 2 & 6 \\\\\n",
    "1 & 3 & 7 \\\\\n",
    "\\end{bmatrix}\n",
    "\n",
    "deberás, usando la función `print` de Python , imprimirla con esta pinta:\n",
    "\n",
    "```\n",
    "|0  2   6|\n",
    "|1  3   7|\n",
    "\n",
    "```\n",
    "\n",
    "1. Para aplicar Divide & Vencerás lo tienes chungo, porque lo que te da la matriz son las columnas, y tú necesitas las filas para ir imprimiéndolas una por linea.\n",
    "2. Si supieses de alguna forma de transformar la matriz para tener las antiguas filas como columnas, igual era más fácil...\n",
    "\n",
    "1. Mira la documentación de la función `print` para ver cómo puedes hacer que quede más bonito y alineado (mira `\\t` a ver qué significa).\n",
    "2. Escribe la información de tipo de la función. ¿Qué devuelve? "
   ]
  },
  {
   "cell_type": "code",
   "execution_count": 37,
   "metadata": {},
   "outputs": [
    {
     "name": "stdout",
     "output_type": "stream",
     "text": [
      "|   0   2   6|\n",
      "|   1   3   7|\n"
     ]
    }
   ],
   "source": [
    "from typing import List\n",
    "\n",
    "def print_matrix(matrix: List[List[int]]) -> None:\n",
    "    for row in matrix:\n",
    "        print(\"|\", end=\"\")\n",
    "        for element in row:\n",
    "            print(\"{:4d}\".format(element), end=\"\")\n",
    "        print(\"|\")\n",
    "\n",
    "matrix = [[0, 2, 6], [1, 3, 7]]\n",
    "print_matrix(matrix)"
   ]
  },
  {
   "attachments": {},
   "cell_type": "markdown",
   "metadata": {},
   "source": [
    "La función `print_matrix` recibe una matriz `matrix` y no devuelve nada (`None`).\n",
    "\n",
    "La función itera sobre cada fila de la matriz. Para cada fila, se utiliza un bucle for para iterar sobre cada elemento. Dentro de este bucle, se utiliza la función print para imprimir el elemento formateado.\n",
    "\n",
    "El formato `\"{:4d}\"` se utiliza para alinear los elementos y asegurarse de que ocupen un ancho de 4 caracteres. Esto se logra agregando espacios adicionales antes del elemento si es necesario.\n",
    "\n",
    "Se utiliza el argumento `end=\"\"` en las llamadas a `print` para evitar que se imprima un salto de línea después de cada fila.\n",
    "\n",
    "Se imprime un carácter de barra vertical | al comienzo de cada fila y al final de cada fila para obtener el formato deseado.\n",
    "\n",
    "En el ejemplo de uso, se define una matriz y se llama a la función `print_matrix` pasándole la matriz como argumento. Esto imprimirá la matriz en el formato especificado:\n",
    "\n",
    "La función `print_matrix` imprime la matriz en el formato deseado utilizando la función print de Python y aplicando formato a los elementos. No devuelve ningún valor, simplemente imprime la matriz en la consola.\n",
    "\n",
    "La información de tipo de la función print_matrix es la siguiente:\n",
    "\n",
    "Parámetro:\n",
    "* `matrix: List[List[int]]`\n",
    "* Valor de retorno: `None`\n",
    "La función recibe una lista de listas de enteros (`matrix`) y no devuelve ningún valor (`None`)."
   ]
  }
 ],
 "metadata": {
  "kernelspec": {
   "display_name": "Python 3",
   "language": "python",
   "name": "python3"
  },
  "language_info": {
   "codemirror_mode": {
    "name": "ipython",
    "version": 3
   },
   "file_extension": ".py",
   "mimetype": "text/x-python",
   "name": "python",
   "nbconvert_exporter": "python",
   "pygments_lexer": "ipython3",
   "version": "3.11.3"
  },
  "orig_nbformat": 4
 },
 "nbformat": 4,
 "nbformat_minor": 2
}
