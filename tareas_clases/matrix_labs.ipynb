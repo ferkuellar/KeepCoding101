{
 "cells": [
  {
   "attachments": {},
   "cell_type": "markdown",
   "metadata": {},
   "source": [
    "#### (0) make_list\n",
    "\n",
    "Crea la función `make_list(size:int, value: int | float, index: int, fill: int| float)`. Recibe tres parámetros:\n",
    "\n",
    "`size`: el tamaño o longitude de la lista que se va a crear.\n",
    "\n",
    "`value`: Un entero o float que se va a meter en una cierta posición de la lista.\n",
    "\n",
    "`index`: la posición donde se va a meter value.\n",
    "\n",
    "`fill`: El valor que vamos a meter en las demás posiciones.\n",
    "\n",
    "Por ejemplo,\n",
    "\n",
    "`make_list(4, 1, 2, 0) == [0,0,2,0]`\n",
    "\n",
    "Si `index` tienen un valor imposible, lanza una excepción `ValueError`.\n",
    "\n",
    "1.  Una función que crea un tipo (por ejemplo una lista, un lol, una matriz) se le llamam un constructor.\n",
    "2.  Añade la información de tipos a los parámetros y valor de retorno.\n"
   ]
  },
  {
   "cell_type": "code",
   "execution_count": 2,
   "metadata": {},
   "outputs": [
    {
     "name": "stdout",
     "output_type": "stream",
     "text": [
      "[0, 0, 1, 0, 0]\n"
     ]
    }
   ],
   "source": [
    "from typing import List, Union\n",
    "\n",
    "def make_list(size: int, value: Union[int, float], index: int, fill: Union[int, float]) -> List[Union[int, float]]:\n",
    "    if index < 0 or index >= size:\n",
    "        raise ValueError(\"Invalid index\")\n",
    "    \n",
    "    lista = [fill] * size\n",
    "    lista[index] = value\n",
    "    \n",
    "    return lista\n"
   ]
  },
  {
   "attachments": {},
   "cell_type": "markdown",
   "metadata": {},
   "source": [
    "La función `make_list` recibe cuatro parámetros:\n",
    "\n",
    "`size` es un entero que representa el tamaño o longitud de la lista que se va a crear.\n",
    "\n",
    "`value` es un entero o flotante que se va a insertar en una cierta posición de la lista.\n",
    "\n",
    "`index` es la posición donde se va a insertar el valor value.\n",
    "\n",
    "`fill` es el valor que se va a insertar en las demás posiciones de la lista.\n",
    "\n",
    "La función devuelve una lista de enteros o flotantes `(List[Union[int, float]])`.\n",
    "\n",
    "En el código, se comprueba si el valor de `index` es válido. Si `index` es menor que 0 o mayor o igual que `size`, se lanza una excepción `ValueError`.\n",
    "\n",
    "Luego, se crea una lista llamada `lista` con `size` elementos, todos inicializados con el valor `fill`. A continuación, se asigna el valor `value` en la posición `index` de la lista.\n",
    "\n",
    "Finalmente, se retorna la lista resultante.\n",
    "\n",
    "Es importante tener en cuenta que el tipo de la lista de salida permite tanto enteros como flotantes, ya que `value` y `fill` pueden ser de cualquiera de estos tipos."
   ]
  },
  {
   "attachments": {},
   "cell_type": "markdown",
   "metadata": {},
   "source": [
    "#### (1) is_matrix\n",
    "\n",
    "Crea el predicado `si_matrix` que devuelve true si un lol es una matriz. Repasa los requisitos para que un lol sea una matriz"
   ]
  },
  {
   "cell_type": "code",
   "execution_count": 3,
   "metadata": {},
   "outputs": [],
   "source": [
    "\n",
    "def is_matrix(lol: List[List[int]]) -> bool:\n",
    "    if not lol:\n",
    "        return False\n",
    "\n",
    "    rows = len(lol)\n",
    "    cols = len(lol[0])\n",
    "\n",
    "    for row in lol:\n",
    "        if len(row) != cols:\n",
    "            return False\n",
    "\n",
    "    return True\n"
   ]
  },
  {
   "attachments": {},
   "cell_type": "markdown",
   "metadata": {},
   "source": [
    "La función `is_matrix` recibe un argumento `lol` que representa un \"lol\" (list of lists). Devuelve `True` si `lol` cumple con los requisitos para ser considerada una matriz y `False` en caso contrario.\n",
    "\n",
    "Primero, se verifica si `lol` está vacía. Si es así, se devuelve `False` ya que no cumple con el requisito de tener al menos una sublista.\n",
    "\n",
    "Luego, se obtiene la longitud de la primera sublista y se almacena en la variable `cols`. Esto servirá como referencia para verificar que todas las sublistas tengan la misma longitud.\n",
    "\n",
    "Después, se recorre cada sublista en `lol` y se compara su longitud con `cols`. Si alguna sublista tiene una longitud diferente, se devuelve `False`.\n",
    "\n",
    "Si se han verificado todas las sublistas sin encontrar discrepancias en la longitud, se devuelve `True`, indicando que `lol` es una matriz válida.\n",
    "\n",
    "Es importante destacar que esta implementación asume que todas las sublistas contienen elementos del tipo entero. Si deseas que sea compatible con otros tipos de datos, puedes modificar el tipo de anotación y adaptar la lógica de acuerdo a tus necesidades."
   ]
  },
  {
   "attachments": {},
   "cell_type": "markdown",
   "metadata": {},
   "source": [
    "#### (2) num_of_columns\n",
    "\n",
    "Crea una función que recibe una matrix y devuelve el número de *columnas*."
   ]
  },
  {
   "cell_type": "code",
   "execution_count": 6,
   "metadata": {},
   "outputs": [],
   "source": [
    "\n",
    "def num_of_columns(matrix: List[List[int]]) -> int:\n",
    "    if not matrix:\n",
    "        return 0\n",
    "\n",
    "    return len(matrix[0])\n"
   ]
  },
  {
   "attachments": {},
   "cell_type": "markdown",
   "metadata": {},
   "source": [
    "La función `num_of_columns` recibe una matriz representada como una lista de listas de enteros `(List[List[int]])`. Devuelve el número de columnas de la matriz.\n",
    "\n",
    "Primero, se verifica si la matriz está vacía. Si es así, no hay columnas y se devuelve 0.\n",
    "\n",
    "Luego, se obtiene la longitud de la primera sublista de la matriz, que representa el número de columnas. Esto se hace con `len(matrix[0])`.\n",
    "\n",
    "Finalmente, se retorna el número de columnas.\n",
    "\n",
    "Es importante destacar que esta implementación asume que todas las sublistas de la matriz tienen la misma longitud. Si la matriz no cumple con esta condición, el resultado puede ser incorrecto o puede ocurrir un error durante la ejecución. Por lo tanto, se recomienda asegurarse de que la matriz sea válida antes de llamar a esta función."
   ]
  },
  {
   "attachments": {},
   "cell_type": "markdown",
   "metadata": {},
   "source": [
    "#### (3) num_of_rows\n",
    "\n",
    "Crea una función que recibe una matrix y devuelve el número de filas."
   ]
  },
  {
   "cell_type": "code",
   "execution_count": 7,
   "metadata": {},
   "outputs": [],
   "source": [
    "\n",
    "\n",
    "def num_of_rows(matrix: List[List[int]]) -> int:\n",
    "    return len(matrix)\n"
   ]
  },
  {
   "attachments": {},
   "cell_type": "markdown",
   "metadata": {},
   "source": [
    "La función `num_of_rows` recibe una matriz representada como una lista de listas de enteros `(List[List[int]])`. Devuelve el número de filas de la matriz utilizando la función len, que devuelve la longitud de la lista `matrix`.\n",
    "\n",
    "Simplemente se retorna el resultado de `len(matrix)`, que es el número de elementos (es decir, el número de filas) en la lista `matrix`.\n",
    "\n",
    "Esta implementación asume que la matriz es válida y que todas las sublistas representan filas de la matriz. Si la matriz no cumple con estas condiciones, el resultado puede ser incorrecto. Por lo tanto, se recomienda asegurarse de que la matriz sea válida antes de llamar a esta función."
   ]
  },
  {
   "attachments": {},
   "cell_type": "markdown",
   "metadata": {},
   "source": [
    "### (4) is_square_matrix\n",
    "\n",
    "Crea el predicado que recibe un lol y devuelve si es una matriz cuadrada. ¿Puedes reaprovechar algunas de las funciones que ya has creado?"
   ]
  },
  {
   "cell_type": "code",
   "execution_count": 8,
   "metadata": {},
   "outputs": [],
   "source": [
    "def is_square_matrix(matrix: List[List[int]]) -> bool:\n",
    "    rows = num_of_rows(matrix)\n",
    "    columns = num_of_columns(matrix)\n",
    "\n",
    "    return rows == columns"
   ]
  },
  {
   "attachments": {},
   "cell_type": "markdown",
   "metadata": {},
   "source": [
    "El predicado `is_square_matrix recibe` una matriz representada como una lista de listas de enteros `(List[List[int]])`. Utiliza las funciones `num_of_rows` y `num_of_columns` para obtener el número de filas y columnas de la matriz respectivamente.\n",
    "\n",
    "Luego, se compara el número de filas con el número de columnas. Si son iguales, significa que la matriz es cuadrada y se devuelve `True`. De lo contrario, se devuelve `False`.\n",
    "\n",
    "Al aprovechar las funciones `num_of_rows` y `num_of_columns`, evitamos duplicar código y reutilizamos la lógica ya implementada para obtener el número de filas y columnas de la matriz.\n",
    "\n",
    "Es importante tener en cuenta que esta implementación asume que la matriz es válida y que todas las sublistas tienen la misma longitud. Si la matriz no cumple con estas condiciones, el resultado puede ser incorrecto. Por lo tanto, se recomienda validar la matriz antes de llamar a este predicado."
   ]
  },
  {
   "attachments": {},
   "cell_type": "markdown",
   "metadata": {},
   "source": [
    "#### (5) make_zero_matrix\n",
    "\n",
    "Una matriz-cero es aquella cuyos elementos son todos `0`. Crea la función que recibe 2 parámetros:\n",
    "\n",
    "* número de columnas\n",
    "* número de filas\n",
    "\n",
    "Devuelve la matriz cero del tamaño que se ha pedido"
   ]
  },
  {
   "cell_type": "code",
   "execution_count": 11,
   "metadata": {},
   "outputs": [],
   "source": [
    "def make_zero_matrix(num_columns: int, num_rows: int) -> List[List[int]]:\n",
    "    matrix = [[0] * num_columns for _ in range(num_rows)]\n",
    "    return matrix\n"
   ]
  },
  {
   "attachments": {},
   "cell_type": "markdown",
   "metadata": {},
   "source": [
    "La función `make_zero_matrix` recibe dos parámetros: `num_columns`, que representa el número de columnas, y `num_rows`, que representa el número de filas. La función devuelve una matriz cero del tamaño especificado, representada como una lista de listas de enteros `(List[List[int]])`.\n",
    "\n",
    "En el código, se utiliza una comprensión de lista para crear la matriz cero. Se crea una lista de `num_columns` elementos, todos inicializados con el valor `0`. Luego, se crea una lista de `num_rows` elementos utilizando esta lista de columnas como base.\n",
    "\n",
    "El resultado es una matriz cero con `num_rows` filas y `num_columns` columnas, donde todos los elementos son `0`.\n",
    "\n",
    "Es importante mencionar que esta implementación asume que los valores de `num_columns` y `num_rows` son números enteros positivos. Si se proporcionan valores no válidos, como números negativos o cero, el resultado puede ser inesperado o incorrecto. Por lo tanto, se recomienda validar los argumentos antes de llamar a esta función."
   ]
  },
  {
   "attachments": {},
   "cell_type": "markdown",
   "metadata": {},
   "source": [
    "#### (6) make_identity_matrix\n",
    "\n",
    "Una matriz identidad es aquella cuyos elementos son todos `1`. Crea la función que recibe 2 parámetros:\n",
    "\n",
    "* número de columnas\n",
    "* número de filas\n",
    "\n",
    "Devuelve la matriz identidad del tamaño que se ha pedido"
   ]
  },
  {
   "cell_type": "code",
   "execution_count": 10,
   "metadata": {},
   "outputs": [],
   "source": [
    "def make_identity_matrix(num_columns: int, num_rows: int) -> List[List[int]]:\n",
    "    matrix = [[0] * num_columns for _ in range(num_rows)]\n",
    "\n",
    "    for i in range(min(num_columns, num_rows)):\n",
    "        matrix[i][i] = 1\n",
    "\n",
    "    return matrix"
   ]
  },
  {
   "attachments": {},
   "cell_type": "markdown",
   "metadata": {},
   "source": [
    "La función `make_identity_matrix` recibe dos parámetros: `num_columns`, que representa el número de columnas, y `num_rows`, que representa el número de filas. La función devuelve una matriz identidad del tamaño especificado, representada como una lista de listas de enteros `(List[List[int]])`.\n",
    "\n",
    "En el código, primero se crea una matriz cero utilizando una comprensión de lista, similar a la función `make_zero_matrix`. Luego, se recorre desde la posición `(0, 0)` hasta la posición `(min(num_columns, num_rows) - 1, min(num_columns, num_rows) - 1) (es decir, la diagonal principal de la matriz)`.\n",
    "\n",
    "En cada iteración, se asigna el valor `1` en la posición correspondiente de la diagonal principal de la matriz. El resto de los elementos se mantienen en `0`, ya que se inicializaron así al crear la matriz.\n",
    "\n",
    "El resultado es una matriz identidad con `num_rows` filas y `num_columns columnas`, donde los elementos de la diagonal principal son 1 y el resto de los elementos son `0`."
   ]
  },
  {
   "attachments": {},
   "cell_type": "markdown",
   "metadata": {},
   "source": [
    "#### (7) make_constant_matrix\n",
    "\n",
    "Las dos funciones anteriores son demasiado parecidas. Crea la función `make_constant_matrix` que recibe 3 parámetros:\n",
    "\n",
    "* número de columnas\n",
    "* número de filas\n",
    "* valor de todos los elementos\n",
    "\n",
    "Además, re-escribe `make-zero-matriz` y `make-identity-matrix` en base a la que acabase de crear.\n"
   ]
  },
  {
   "attachments": {},
   "cell_type": "markdown",
   "metadata": {},
   "source": [
    "La función `make_constant_matrix` es una función constructora, ya que crea y devuelve un objeto de tipo matriz. Además, toma ciertos parámetros para configurar el objeto, como el número de columnas, el número de filas y el valor de todos los elementos.\n",
    "\n",
    "La función `make_zero_matrix` y la función `make_identity_matrix` son funciones constructoras especializadas, ya que utilizan la función make_constant_matrix para crear matrices específicas (matriz cero y matriz identidad) estableciendo el valor de todos los elementos según el caso.\n"
   ]
  },
  {
   "cell_type": "code",
   "execution_count": 12,
   "metadata": {},
   "outputs": [],
   "source": [
    "def make_constant_matrix(num_columns: int, num_rows: int, value: int) -> List[List[int]]:\n",
    "    matrix = [[value] * num_columns for _ in range(num_rows)]\n",
    "    return matrix\n",
    "\n",
    "def make_zero_matrix(num_columns: int, num_rows: int) -> List[List[int]]:\n",
    "    return make_constant_matrix(num_columns, num_rows, 0)\n",
    "\n",
    "def make_identity_matrix(num_columns: int, num_rows: int) -> List[List[int]]:\n",
    "    matrix = make_zero_matrix(num_columns, num_rows)\n",
    "\n",
    "    for i in range(min(num_columns, num_rows)):\n",
    "        matrix[i][i] = 1\n",
    "\n",
    "    return matrix"
   ]
  },
  {
   "attachments": {},
   "cell_type": "markdown",
   "metadata": {},
   "source": [
    "La función `make_constant_matrix` recibe tres parámetros: `num_columns (número de columnas)`, `num_rows` (número de filas) y `value` (valor constante). La función crea una matriz con `num_columns` columnas y `num_rows` filas, donde todos los elementos tienen el valor `value`.\n",
    "\n",
    "La función `make_zero_matrix` simplemente llama a `make_constant_matrix` con el valor `0` como argumento para obtener una matriz cero.\n",
    "\n",
    "La función `make_identity_matrix` utiliza la función `make_zero_matrix` para crear una matriz cero, y luego modifica los elementos de la diagonal principal para establecerlos en `1`, obteniendo así una matriz identidad."
   ]
  },
  {
   "attachments": {},
   "cell_type": "markdown",
   "metadata": {},
   "source": [
    "1. ¿Qué tipo de función son?\n",
    "\n",
    "Estas funciones son conocidas como constructores de matrices, ya que crean matrices con características específicas a partir de los parámetros proporcionados.\n",
    "\n",
    "Es importante tener en cuenta que estas implementaciones asumen que los valores de num_columns y num_rows son números enteros positivos, y que value puede ser cualquier valor válido del tipo entero. Se recomienda validar los argumentos antes de llamar a estas funciones."
   ]
  }
 ],
 "metadata": {
  "kernelspec": {
   "display_name": "Python 3",
   "language": "python",
   "name": "python3"
  },
  "language_info": {
   "codemirror_mode": {
    "name": "ipython",
    "version": 3
   },
   "file_extension": ".py",
   "mimetype": "text/x-python",
   "name": "python",
   "nbconvert_exporter": "python",
   "pygments_lexer": "ipython3",
   "version": "3.11.3"
  },
  "orig_nbformat": 4
 },
 "nbformat": 4,
 "nbformat_minor": 2
}
