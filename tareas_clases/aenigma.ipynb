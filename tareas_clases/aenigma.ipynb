{
 "cells": [
  {
   "attachments": {},
   "cell_type": "markdown",
   "metadata": {},
   "source": [
    "# Ejercicio 2. AENIGMA <-> BFOJHNB\n",
    "\n",
    "## Enunciado\n",
    "\n",
    "Cesar no quiere que Asterix le lea la correspondencia y ha inventado una máquina AENIGMA que cifra y descifra sus mensajes con el cifrado Cesar.\n",
    "\n",
    "Según chatGPT el cifrado cesar es:\n",
    "\n",
    ">El cifrado César es un método de cifrado de sustitución muy simple y antiguo que se utiliza para cifrar un mensaje mediante la sustitución de cada letra del texto original por otra letra que se encuentra un número fijo de posiciones adelante en el alfabeto. Este número fijo se conoce como la clave del cifrado.\n",
    ">\n",
    ">Por ejemplo, si la clave del cifrado es 3, la letra \"A\" se sustituye por la letra \"D\", la letra \"B\" se sustituye por la letra \"E\", y así sucesivamente. De esta manera, la palabra \"HOLA\" se cifraría como \"KROD\" utilizando el cifrado César con una clave de 3.\n",
    "\n",
    "Debes construir un simulador de esa máquina. Elige tú la clave de cifrado (1 a 25) y utiliza sólo el alfabeto español \"ABCDEFGHIJKLMNOPQRSTUVWXYZ\".\n",
    "\n",
    "La máquina cuando se enciende simplemente esperará que se le introduzca un texto. Una vez introducido lo imprimirá justo debajo cifrado.\n",
    "\n",
    "Para usarla en modo descifrado el texto a descifrar debe comenzar por el carácter `_`\n",
    "\n",
    "Así si la clave es tres, tecleando `HOLA` veremos\n",
    "```\n",
    "HOLA\n",
    "KROD\n",
    "```\n",
    "\n",
    "y si queremos descifrar `KROD` deberemos escribir `_KROD`y nos mostrará\n",
    "```\n",
    "_KROD\n",
    "HOLA\n",
    "```\n",
    "\n",
    "**Apagado de la máquina***\n",
    "Opcionalmente. Si quieres apagar la máquina debes escribir la secuencia `****` (cuatro asteriscos seguidos), o elegir tu la tuya"
   ]
  },
  {
   "cell_type": "code",
   "execution_count": 2,
   "metadata": {},
   "outputs": [
    {
     "name": "stdout",
     "output_type": "stream",
     "text": [
      "Apagando la máquina AENIGMA...\n"
     ]
    }
   ],
   "source": [
    "def aenigma():\n",
    "    clave = 3  # Clave de cifrado\n",
    "    alfabeto = \"ABCDEFGHIJKLMNOPQRSTUVWXYZ\"  # Alfabeto español\n",
    "    \n",
    "    while True:\n",
    "        texto = input(\"Introduce un texto: \")\n",
    "        \n",
    "        # Comprobar si se quiere apagar la máquina\n",
    "        if texto == \"****\":\n",
    "            print(\"Apagando la máquina AENIGMA...\")\n",
    "            break\n",
    "        \n",
    "        # Comprobar si se desea descifrar el texto\n",
    "        if texto.startswith(\"_\"):\n",
    "            texto = texto[1:]       # Eliminar el carácter \"_\" inicial\n",
    "            clave = -clave          # Cambiar la clave de cifrado para descifrar\n",
    "        \n",
    "        texto_cifrado = \"\"\n",
    "        for caracter in texto:\n",
    "            if caracter in alfabeto:\n",
    "                indice_original = alfabeto.index(caracter)\n",
    "                indice_cifrado = (indice_original + clave) % len(alfabeto)\n",
    "                caracter_cifrado = alfabeto[indice_cifrado]\n",
    "                texto_cifrado += caracter_cifrado\n",
    "            else:\n",
    "                texto_cifrado += caracter\n",
    "        \n",
    "        print(texto_cifrado)\n",
    "\n",
    "# Ejecutar el simulador de la máquina AENIGMA\n",
    "aenigma()"
   ]
  },
  {
   "attachments": {},
   "cell_type": "markdown",
   "metadata": {},
   "source": [
    "En esta implementación, la función `aenigma()` simula el funcionamiento de la máquina AENIGMA. La variable clave representa la clave de cifrado que se elige (en este caso, 3). El alfabeto español se representa en la variable `alfabeto`.\n",
    "\n",
    "Dentro de un bucle infinito (`while True`), se espera a que el usuario introduzca un texto utilizando la función `input()`. Si el texto ingresado es `****`, se imprime un mensaje de apagado de la máquina y se rompe el bucle, finalizando la ejecución.\n",
    "\n",
    "Si el texto ingresado comienza con el carácter `_`, se asume que se desea descifrar el texto. Se elimina el carácter `_` inicial y se cambia la clave de cifrado a su valor negativo, para realizar la operación inversa.\n",
    "\n",
    "Luego, se procede a cifrar o descifrar el texto utilizando el cifrado César. Se itera sobre cada caracter del texto ingresado y, si el caracter está en el alfabeto, se calcula el índice original del caracter, se aplica la operación de cifrado (sumando o restando la clave), y se obtiene el caracter cifrado correspondiente.\n",
    "\n",
    "El texto cifrado se va construyendo agregando los caracteres cifrados o sin modificar si no están en el alfabeto.\n",
    "\n",
    "Finalmente, se imprime el texto cifrado o descifrado, según corresponda."
   ]
  }
 ],
 "metadata": {
  "kernelspec": {
   "display_name": "Python 3",
   "language": "python",
   "name": "python3"
  },
  "language_info": {
   "codemirror_mode": {
    "name": "ipython",
    "version": 3
   },
   "file_extension": ".py",
   "mimetype": "text/x-python",
   "name": "python",
   "nbconvert_exporter": "python",
   "pygments_lexer": "ipython3",
   "version": "3.11.3"
  },
  "orig_nbformat": 4
 },
 "nbformat": 4,
 "nbformat_minor": 2
}
